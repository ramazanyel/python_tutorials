{
 "cells": [
  {
   "cell_type": "markdown",
   "id": "8c8b76a2",
   "metadata": {},
   "source": [
    "# TUPLE"
   ]
  },
  {
   "cell_type": "markdown",
   "id": "f47952ea",
   "metadata": {},
   "source": [
    "> Tuples are collections like lists.() are used to create it. we can hold any kind of element in tuple like list."
   ]
  },
  {
   "cell_type": "code",
   "execution_count": 1,
   "id": "5bd384ba",
   "metadata": {},
   "outputs": [],
   "source": [
    "t = (1,2,3)"
   ]
  },
  {
   "cell_type": "code",
   "execution_count": 2,
   "id": "004a7e85",
   "metadata": {},
   "outputs": [
    {
     "data": {
      "text/plain": [
       "tuple"
      ]
     },
     "execution_count": 2,
     "metadata": {},
     "output_type": "execute_result"
    }
   ],
   "source": [
    "type(t)"
   ]
  },
  {
   "cell_type": "code",
   "execution_count": 4,
   "id": "497d9f4c",
   "metadata": {},
   "outputs": [],
   "source": [
    "t1 = (\"hello\", 1, 2.3, True)"
   ]
  },
  {
   "cell_type": "code",
   "execution_count": 6,
   "id": "b584a284",
   "metadata": {},
   "outputs": [],
   "source": [
    "l = [\"hello\", 1, 2.3, True]"
   ]
  },
  {
   "cell_type": "code",
   "execution_count": 7,
   "id": "c70b05bd",
   "metadata": {},
   "outputs": [
    {
     "name": "stdout",
     "output_type": "stream",
     "text": [
      "<class 'tuple'>\n",
      "<class 'list'>\n"
     ]
    }
   ],
   "source": [
    "print(type(t1))\n",
    "print(type(l))"
   ]
  },
  {
   "cell_type": "markdown",
   "id": "c72619e8",
   "metadata": {},
   "source": [
    "> to access an element in tuple is the same as list. we can use slicing operation with tuples"
   ]
  },
  {
   "cell_type": "code",
   "execution_count": 8,
   "id": "de20e536",
   "metadata": {},
   "outputs": [
    {
     "data": {
      "text/plain": [
       "('hello', 1)"
      ]
     },
     "execution_count": 8,
     "metadata": {},
     "output_type": "execute_result"
    }
   ],
   "source": [
    "t1[:2]"
   ]
  },
  {
   "cell_type": "code",
   "execution_count": 10,
   "id": "38d4e837",
   "metadata": {},
   "outputs": [
    {
     "data": {
      "text/plain": [
       "(True, 2.3, 1, 'hello')"
      ]
     },
     "execution_count": 10,
     "metadata": {},
     "output_type": "execute_result"
    }
   ],
   "source": [
    "t1[::-1] #reverse order like list"
   ]
  },
  {
   "cell_type": "code",
   "execution_count": 12,
   "id": "fd52f0b9",
   "metadata": {},
   "outputs": [
    {
     "data": {
      "text/plain": [
       "True"
      ]
     },
     "execution_count": 12,
     "metadata": {},
     "output_type": "execute_result"
    }
   ],
   "source": [
    "t1[-1] #access the last element of the tuple just like list"
   ]
  },
  {
   "cell_type": "markdown",
   "id": "e0034cc9",
   "metadata": {},
   "source": [
    "> list is mutable tuples are immutable. We can not assign a new value to the element that already in the tuple"
   ]
  },
  {
   "cell_type": "code",
   "execution_count": 17,
   "id": "21802d47",
   "metadata": {},
   "outputs": [],
   "source": [
    "l1 = [4,5,6,7] # modified an element in the list"
   ]
  },
  {
   "cell_type": "code",
   "execution_count": 18,
   "id": "b8c847f6",
   "metadata": {},
   "outputs": [
    {
     "data": {
      "text/plain": [
       "['hello', 5, 6, 7]"
      ]
     },
     "execution_count": 18,
     "metadata": {},
     "output_type": "execute_result"
    }
   ],
   "source": [
    "l1[0] = \"hello\"\n",
    "l1"
   ]
  },
  {
   "cell_type": "code",
   "execution_count": 19,
   "id": "f03bde7c",
   "metadata": {},
   "outputs": [],
   "source": [
    "t1 = (4,5,6,7)"
   ]
  },
  {
   "cell_type": "code",
   "execution_count": 16,
   "id": "37f781cf",
   "metadata": {},
   "outputs": [
    {
     "ename": "TypeError",
     "evalue": "'tuple' object does not support item assignment",
     "output_type": "error",
     "traceback": [
      "\u001b[1;31m---------------------------------------------------------------------------\u001b[0m",
      "\u001b[1;31mTypeError\u001b[0m                                 Traceback (most recent call last)",
      "\u001b[1;32m~\\AppData\\Local\\Temp\\ipykernel_6400\\1968980750.py\u001b[0m in \u001b[0;36m<module>\u001b[1;34m\u001b[0m\n\u001b[1;32m----> 1\u001b[1;33m \u001b[0mt1\u001b[0m\u001b[1;33m[\u001b[0m\u001b[1;36m0\u001b[0m\u001b[1;33m]\u001b[0m \u001b[1;33m=\u001b[0m \u001b[1;34m\"hello\"\u001b[0m\u001b[1;33m\u001b[0m\u001b[1;33m\u001b[0m\u001b[0m\n\u001b[0m",
      "\u001b[1;31mTypeError\u001b[0m: 'tuple' object does not support item assignment"
     ]
    }
   ],
   "source": [
    "t1[0] = \"hello\" # this creates error since tuples are immutable"
   ]
  },
  {
   "cell_type": "markdown",
   "id": "8e136025",
   "metadata": {},
   "source": [
    "> **\"+\"** operation also works for tuples"
   ]
  },
  {
   "cell_type": "code",
   "execution_count": 20,
   "id": "224b968c",
   "metadata": {},
   "outputs": [
    {
     "data": {
      "text/plain": [
       "(4, 5, 6, 7, 7, 8, 9)"
      ]
     },
     "execution_count": 20,
     "metadata": {},
     "output_type": "execute_result"
    }
   ],
   "source": [
    "t2 = (7,8,9)\n",
    "t1+t2"
   ]
  },
  {
   "cell_type": "markdown",
   "id": "46e5a6c2",
   "metadata": {},
   "source": [
    "> **\"\\*\"** operation works like list. it multiplies the number of element like does with list"
   ]
  },
  {
   "cell_type": "markdown",
   "id": "32868108",
   "metadata": {},
   "source": [
    "> there are many operation for list but not much for tuple because tuples are immutable. there are only two operation **count and index**"
   ]
  },
  {
   "cell_type": "markdown",
   "id": "1b81ef12",
   "metadata": {},
   "source": [
    "> we can hold a tuple inside another tuple "
   ]
  },
  {
   "cell_type": "code",
   "execution_count": 24,
   "id": "546c5def",
   "metadata": {},
   "outputs": [],
   "source": [
    "t = (1,2,3,(\"a\", \"b\"))"
   ]
  },
  {
   "cell_type": "code",
   "execution_count": 27,
   "id": "81e0ebbd",
   "metadata": {},
   "outputs": [],
   "source": [
    "t2 = (1,2,[1,2,3]) # we can host a list inside a tuple"
   ]
  },
  {
   "cell_type": "code",
   "execution_count": 29,
   "id": "234ff01b",
   "metadata": {},
   "outputs": [],
   "source": [
    "t2[2][0] = \"hello\" # this is works. we can modify the list inside the tuple."
   ]
  },
  {
   "cell_type": "code",
   "execution_count": 30,
   "id": "23a16caa",
   "metadata": {},
   "outputs": [
    {
     "data": {
      "text/plain": [
       "(1, 2, ['hello', 2, 3])"
      ]
     },
     "execution_count": 30,
     "metadata": {},
     "output_type": "execute_result"
    }
   ],
   "source": [
    "t2"
   ]
  },
  {
   "cell_type": "markdown",
   "id": "1905b571",
   "metadata": {},
   "source": [
    "> ** we can access and modify the list inside a tuple but we can not modify element at particular index of tuple"
   ]
  },
  {
   "cell_type": "markdown",
   "id": "b941b83d",
   "metadata": {},
   "source": [
    "> we can not modify tuple inside a tuple"
   ]
  },
  {
   "cell_type": "markdown",
   "id": "574a6bad",
   "metadata": {},
   "source": [
    "> we can use **tuple()** function to convert other collections to tuples"
   ]
  },
  {
   "cell_type": "markdown",
   "id": "e52d19e4",
   "metadata": {},
   "source": [
    "# SET"
   ]
  },
  {
   "cell_type": "markdown",
   "id": "a7b2110d",
   "metadata": {},
   "source": [
    "> Only holds unique element does not allow duplicates"
   ]
  },
  {
   "cell_type": "code",
   "execution_count": 31,
   "id": "e4639622",
   "metadata": {},
   "outputs": [],
   "source": [
    "l = [1,2,3,3,3,2,2,2,1,1,1]"
   ]
  },
  {
   "cell_type": "code",
   "execution_count": 32,
   "id": "31e6abab",
   "metadata": {},
   "outputs": [],
   "source": [
    "s = set(l)"
   ]
  },
  {
   "cell_type": "code",
   "execution_count": 33,
   "id": "446ed299",
   "metadata": {},
   "outputs": [
    {
     "data": {
      "text/plain": [
       "{1, 2, 3}"
      ]
     },
     "execution_count": 33,
     "metadata": {},
     "output_type": "execute_result"
    }
   ],
   "source": [
    "s"
   ]
  },
  {
   "cell_type": "markdown",
   "id": "b83683a6",
   "metadata": {},
   "source": [
    "> if we use  **s={}** the type of s will be **dict**\\\n",
    "if we use **s={1,2,3}** the type of s will be **set**\\\n",
    "if we dont have any element between braces it is a dict if we add even single element it will be set"
   ]
  },
  {
   "cell_type": "code",
   "execution_count": 34,
   "id": "dfbe407c",
   "metadata": {},
   "outputs": [
    {
     "data": {
      "text/plain": [
       "dict"
      ]
     },
     "execution_count": 34,
     "metadata": {},
     "output_type": "execute_result"
    }
   ],
   "source": [
    "s2 = {}\n",
    "type(s2)"
   ]
  },
  {
   "cell_type": "code",
   "execution_count": 35,
   "id": "8934531f",
   "metadata": {},
   "outputs": [
    {
     "data": {
      "text/plain": [
       "set"
      ]
     },
     "execution_count": 35,
     "metadata": {},
     "output_type": "execute_result"
    }
   ],
   "source": [
    "s3 = {1,2,3}\n",
    "type(s3)"
   ]
  },
  {
   "cell_type": "markdown",
   "id": "31d9068a",
   "metadata": {},
   "source": [
    "> we can not use **[ ]**(slicing opt.) to access element because sets are **unordered** collections"
   ]
  },
  {
   "cell_type": "code",
   "execution_count": 37,
   "id": "7deed24e",
   "metadata": {},
   "outputs": [
    {
     "ename": "TypeError",
     "evalue": "'set' object is not subscriptable",
     "output_type": "error",
     "traceback": [
      "\u001b[1;31m---------------------------------------------------------------------------\u001b[0m",
      "\u001b[1;31mTypeError\u001b[0m                                 Traceback (most recent call last)",
      "\u001b[1;32m~\\AppData\\Local\\Temp\\ipykernel_6400\\2040301123.py\u001b[0m in \u001b[0;36m<module>\u001b[1;34m\u001b[0m\n\u001b[1;32m----> 1\u001b[1;33m \u001b[0ms3\u001b[0m\u001b[1;33m[\u001b[0m\u001b[1;36m0\u001b[0m\u001b[1;33m]\u001b[0m \u001b[1;31m#doesnt work.because unordered\u001b[0m\u001b[1;33m\u001b[0m\u001b[1;33m\u001b[0m\u001b[0m\n\u001b[0m",
      "\u001b[1;31mTypeError\u001b[0m: 'set' object is not subscriptable"
     ]
    }
   ],
   "source": [
    "s3[0] #doesnt work.because unordered"
   ]
  },
  {
   "cell_type": "code",
   "execution_count": 39,
   "id": "75e2888b",
   "metadata": {},
   "outputs": [
    {
     "data": {
      "text/plain": [
       "{1, 2, 3, 4}"
      ]
     },
     "execution_count": 39,
     "metadata": {},
     "output_type": "execute_result"
    }
   ],
   "source": [
    "s3.add(4)\n",
    "s3"
   ]
  },
  {
   "cell_type": "markdown",
   "id": "c3d8ee0a",
   "metadata": {},
   "source": [
    "> **we can not host a list inside a set because list is unhashable**"
   ]
  },
  {
   "cell_type": "code",
   "execution_count": 41,
   "id": "cc2974d1",
   "metadata": {},
   "outputs": [
    {
     "ename": "TypeError",
     "evalue": "unhashable type: 'list'",
     "output_type": "error",
     "traceback": [
      "\u001b[1;31m---------------------------------------------------------------------------\u001b[0m",
      "\u001b[1;31mTypeError\u001b[0m                                 Traceback (most recent call last)",
      "\u001b[1;32m~\\AppData\\Local\\Temp\\ipykernel_6400\\3600084619.py\u001b[0m in \u001b[0;36m<module>\u001b[1;34m\u001b[0m\n\u001b[1;32m----> 1\u001b[1;33m \u001b[0ms4\u001b[0m \u001b[1;33m=\u001b[0m \u001b[1;33m{\u001b[0m\u001b[1;36m1\u001b[0m\u001b[1;33m,\u001b[0m\u001b[1;36m2\u001b[0m\u001b[1;33m,\u001b[0m\u001b[1;36m3\u001b[0m\u001b[1;33m,\u001b[0m \u001b[1;33m[\u001b[0m\u001b[1;36m4\u001b[0m\u001b[1;33m,\u001b[0m\u001b[1;36m5\u001b[0m\u001b[1;33m,\u001b[0m\u001b[1;36m6\u001b[0m\u001b[1;33m]\u001b[0m\u001b[1;33m}\u001b[0m \u001b[1;31m#give error. list is mutable so unhashable;\u001b[0m\u001b[1;33m\u001b[0m\u001b[1;33m\u001b[0m\u001b[0m\n\u001b[0m",
      "\u001b[1;31mTypeError\u001b[0m: unhashable type: 'list'"
     ]
    }
   ],
   "source": [
    "s4 = {1,2,3, [4,5,6]} #give error. list is mutable so unhashable"
   ]
  },
  {
   "cell_type": "markdown",
   "id": "07a19ca6",
   "metadata": {},
   "source": [
    "> **we can host tuple in a set. because tuple is immutable so it is hashable**"
   ]
  },
  {
   "cell_type": "code",
   "execution_count": 43,
   "id": "93e9dd85",
   "metadata": {},
   "outputs": [],
   "source": [
    "s5 = {1,2,3,(4,5,6)} #doesnt gives error"
   ]
  },
  {
   "cell_type": "code",
   "execution_count": 44,
   "id": "1dffa731",
   "metadata": {},
   "outputs": [],
   "source": [
    "s6 = {(1,2,3), (1,2,3), 1,2,3} #will remove one of the tuple"
   ]
  },
  {
   "cell_type": "code",
   "execution_count": 45,
   "id": "3090027e",
   "metadata": {},
   "outputs": [
    {
     "data": {
      "text/plain": [
       "{(1, 2, 3), 1, 2, 3}"
      ]
     },
     "execution_count": 45,
     "metadata": {},
     "output_type": "execute_result"
    }
   ],
   "source": [
    "s6"
   ]
  },
  {
   "cell_type": "code",
   "execution_count": 46,
   "id": "faf5ba79",
   "metadata": {},
   "outputs": [],
   "source": [
    "s = {(3,4,5,6), 3,4,5}"
   ]
  },
  {
   "cell_type": "code",
   "execution_count": 47,
   "id": "d71e1766",
   "metadata": {},
   "outputs": [],
   "source": [
    "s.remove(4) "
   ]
  },
  {
   "cell_type": "code",
   "execution_count": 48,
   "id": "6fa8698c",
   "metadata": {},
   "outputs": [
    {
     "data": {
      "text/plain": [
       "{(3, 4, 5, 6), 3, 5}"
      ]
     },
     "execution_count": 48,
     "metadata": {},
     "output_type": "execute_result"
    }
   ],
   "source": [
    "s"
   ]
  },
  {
   "cell_type": "code",
   "execution_count": 49,
   "id": "5d9aa7dc",
   "metadata": {},
   "outputs": [],
   "source": [
    "s.discard(5)"
   ]
  },
  {
   "cell_type": "markdown",
   "id": "00893108",
   "metadata": {},
   "source": [
    "> difference betwee **remove** and **discard** is that if element is not member discard does nothing bur remove gives error"
   ]
  },
  {
   "cell_type": "code",
   "execution_count": 50,
   "id": "9161ea2c",
   "metadata": {},
   "outputs": [
    {
     "ename": "KeyError",
     "evalue": "45",
     "output_type": "error",
     "traceback": [
      "\u001b[1;31m---------------------------------------------------------------------------\u001b[0m",
      "\u001b[1;31mKeyError\u001b[0m                                  Traceback (most recent call last)",
      "\u001b[1;32m~\\AppData\\Local\\Temp\\ipykernel_6400\\2010124880.py\u001b[0m in \u001b[0;36m<module>\u001b[1;34m\u001b[0m\n\u001b[1;32m----> 1\u001b[1;33m \u001b[0ms\u001b[0m\u001b[1;33m.\u001b[0m\u001b[0mremove\u001b[0m\u001b[1;33m(\u001b[0m\u001b[1;36m45\u001b[0m\u001b[1;33m)\u001b[0m\u001b[1;33m\u001b[0m\u001b[1;33m\u001b[0m\u001b[0m\n\u001b[0m",
      "\u001b[1;31mKeyError\u001b[0m: 45"
     ]
    }
   ],
   "source": [
    "s.remove(45)"
   ]
  },
  {
   "cell_type": "code",
   "execution_count": 51,
   "id": "cc243ef8",
   "metadata": {},
   "outputs": [],
   "source": [
    "s.discard(45)"
   ]
  },
  {
   "cell_type": "code",
   "execution_count": null,
   "id": "3b7e20df",
   "metadata": {},
   "outputs": [],
   "source": []
  },
  {
   "cell_type": "code",
   "execution_count": null,
   "id": "67af5c0f",
   "metadata": {},
   "outputs": [],
   "source": []
  },
  {
   "cell_type": "code",
   "execution_count": null,
   "id": "a98b7674",
   "metadata": {},
   "outputs": [],
   "source": []
  },
  {
   "cell_type": "code",
   "execution_count": null,
   "id": "5bc8eb5f",
   "metadata": {},
   "outputs": [],
   "source": []
  },
  {
   "cell_type": "code",
   "execution_count": null,
   "id": "5562811a",
   "metadata": {},
   "outputs": [],
   "source": []
  },
  {
   "cell_type": "code",
   "execution_count": null,
   "id": "c04bbff8",
   "metadata": {},
   "outputs": [],
   "source": []
  },
  {
   "cell_type": "code",
   "execution_count": null,
   "id": "fbccf36e",
   "metadata": {},
   "outputs": [],
   "source": []
  },
  {
   "cell_type": "code",
   "execution_count": null,
   "id": "9c7a16cd",
   "metadata": {},
   "outputs": [],
   "source": []
  },
  {
   "cell_type": "code",
   "execution_count": null,
   "id": "08838dbc",
   "metadata": {},
   "outputs": [],
   "source": []
  },
  {
   "cell_type": "code",
   "execution_count": null,
   "id": "45dd60c1",
   "metadata": {},
   "outputs": [],
   "source": []
  },
  {
   "cell_type": "code",
   "execution_count": null,
   "id": "5d545168",
   "metadata": {},
   "outputs": [],
   "source": []
  },
  {
   "cell_type": "code",
   "execution_count": null,
   "id": "108412d6",
   "metadata": {},
   "outputs": [],
   "source": []
  },
  {
   "cell_type": "code",
   "execution_count": null,
   "id": "57410790",
   "metadata": {},
   "outputs": [],
   "source": []
  },
  {
   "cell_type": "code",
   "execution_count": null,
   "id": "f477061a",
   "metadata": {},
   "outputs": [],
   "source": []
  },
  {
   "cell_type": "code",
   "execution_count": null,
   "id": "6a78a474",
   "metadata": {},
   "outputs": [],
   "source": []
  },
  {
   "cell_type": "code",
   "execution_count": null,
   "id": "bf94fac9",
   "metadata": {},
   "outputs": [],
   "source": []
  },
  {
   "cell_type": "code",
   "execution_count": null,
   "id": "f730363d",
   "metadata": {},
   "outputs": [],
   "source": []
  },
  {
   "cell_type": "code",
   "execution_count": null,
   "id": "88263270",
   "metadata": {},
   "outputs": [],
   "source": []
  },
  {
   "cell_type": "code",
   "execution_count": null,
   "id": "2ca92764",
   "metadata": {},
   "outputs": [],
   "source": []
  },
  {
   "cell_type": "code",
   "execution_count": null,
   "id": "4a4ae311",
   "metadata": {},
   "outputs": [],
   "source": []
  },
  {
   "cell_type": "code",
   "execution_count": null,
   "id": "f3169f53",
   "metadata": {},
   "outputs": [],
   "source": []
  },
  {
   "cell_type": "code",
   "execution_count": null,
   "id": "fe5fad88",
   "metadata": {},
   "outputs": [],
   "source": []
  },
  {
   "cell_type": "code",
   "execution_count": null,
   "id": "762a46ab",
   "metadata": {},
   "outputs": [],
   "source": []
  },
  {
   "cell_type": "code",
   "execution_count": null,
   "id": "64359d09",
   "metadata": {},
   "outputs": [],
   "source": []
  },
  {
   "cell_type": "code",
   "execution_count": null,
   "id": "23e7c434",
   "metadata": {},
   "outputs": [],
   "source": []
  },
  {
   "cell_type": "code",
   "execution_count": null,
   "id": "30cf6f2d",
   "metadata": {},
   "outputs": [],
   "source": []
  },
  {
   "cell_type": "code",
   "execution_count": null,
   "id": "b0e33cf6",
   "metadata": {},
   "outputs": [],
   "source": []
  },
  {
   "cell_type": "code",
   "execution_count": null,
   "id": "775002b3",
   "metadata": {},
   "outputs": [],
   "source": []
  },
  {
   "cell_type": "code",
   "execution_count": null,
   "id": "9d9ac89f",
   "metadata": {},
   "outputs": [],
   "source": []
  },
  {
   "cell_type": "code",
   "execution_count": null,
   "id": "3a4bd97b",
   "metadata": {},
   "outputs": [],
   "source": []
  },
  {
   "cell_type": "code",
   "execution_count": null,
   "id": "65f48ca9",
   "metadata": {},
   "outputs": [],
   "source": []
  }
 ],
 "metadata": {
  "kernelspec": {
   "display_name": "Python 3 (ipykernel)",
   "language": "python",
   "name": "python3"
  },
  "language_info": {
   "codemirror_mode": {
    "name": "ipython",
    "version": 3
   },
   "file_extension": ".py",
   "mimetype": "text/x-python",
   "name": "python",
   "nbconvert_exporter": "python",
   "pygments_lexer": "ipython3",
   "version": "3.9.13"
  }
 },
 "nbformat": 4,
 "nbformat_minor": 5
}
