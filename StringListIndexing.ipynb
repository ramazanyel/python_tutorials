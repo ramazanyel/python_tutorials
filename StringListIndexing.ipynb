{
 "cells": [
  {
   "cell_type": "markdown",
   "id": "b105be4c",
   "metadata": {},
   "source": [
    "# String List Indexing"
   ]
  },
  {
   "cell_type": "markdown",
   "id": "a1765bc1",
   "metadata": {},
   "source": [
    "> how to access some character of string\\\n",
    "when a string stored in memory it is indexed starting from zero"
   ]
  },
  {
   "cell_type": "code",
   "execution_count": 4,
   "id": "22e18011",
   "metadata": {},
   "outputs": [],
   "source": [
    "s = \"ramazan\""
   ]
  },
  {
   "cell_type": "code",
   "execution_count": 5,
   "id": "aa6afdfe",
   "metadata": {},
   "outputs": [
    {
     "data": {
      "text/plain": [
       "str"
      ]
     },
     "execution_count": 5,
     "metadata": {},
     "output_type": "execute_result"
    }
   ],
   "source": [
    "type(s)"
   ]
  },
  {
   "cell_type": "markdown",
   "id": "aeba9207",
   "metadata": {},
   "source": [
    "> forward indexing start from **0**\\\n",
    "backward indexing starts from ***-1**"
   ]
  },
  {
   "cell_type": "code",
   "execution_count": 8,
   "id": "5ed05b9f",
   "metadata": {},
   "outputs": [
    {
     "data": {
      "text/plain": [
       "'s'"
      ]
     },
     "execution_count": 8,
     "metadata": {},
     "output_type": "execute_result"
    }
   ],
   "source": [
    "s[0]"
   ]
  },
  {
   "cell_type": "code",
   "execution_count": 9,
   "id": "7d725caa",
   "metadata": {},
   "outputs": [
    {
     "data": {
      "text/plain": [
       "'h'"
      ]
     },
     "execution_count": 9,
     "metadata": {},
     "output_type": "execute_result"
    }
   ],
   "source": [
    "s[-1]"
   ]
  },
  {
   "cell_type": "code",
   "execution_count": 12,
   "id": "35202e3b",
   "metadata": {},
   "outputs": [],
   "source": [
    "a = \"my name is ramazan\""
   ]
  },
  {
   "cell_type": "markdown",
   "id": "bf924e9b",
   "metadata": {},
   "source": [
    "> if we try to access index that doesnt exist it gives error of **index out of range**"
   ]
  },
  {
   "cell_type": "code",
   "execution_count": 13,
   "id": "a77b9cac",
   "metadata": {},
   "outputs": [
    {
     "ename": "IndexError",
     "evalue": "string index out of range",
     "output_type": "error",
     "traceback": [
      "\u001b[1;31m---------------------------------------------------------------------------\u001b[0m",
      "\u001b[1;31mIndexError\u001b[0m                                Traceback (most recent call last)",
      "\u001b[1;32m~\\AppData\\Local\\Temp\\ipykernel_404\\1555401247.py\u001b[0m in \u001b[0;36m<module>\u001b[1;34m\u001b[0m\n\u001b[1;32m----> 1\u001b[1;33m \u001b[0ma\u001b[0m\u001b[1;33m[\u001b[0m\u001b[1;36m100\u001b[0m\u001b[1;33m]\u001b[0m \u001b[1;31m#throws error\u001b[0m\u001b[1;33m\u001b[0m\u001b[1;33m\u001b[0m\u001b[0m\n\u001b[0m",
      "\u001b[1;31mIndexError\u001b[0m: string index out of range"
     ]
    }
   ],
   "source": [
    "a[100] #throws error"
   ]
  },
  {
   "cell_type": "markdown",
   "id": "0de2ce0b",
   "metadata": {},
   "source": [
    "> to access part of the string use **[start:end:step]**\\\n",
    "upper bound will be excluded"
   ]
  },
  {
   "cell_type": "code",
   "execution_count": 14,
   "id": "a746b79e",
   "metadata": {},
   "outputs": [
    {
     "data": {
      "text/plain": [
       "'my name is'"
      ]
     },
     "execution_count": 14,
     "metadata": {},
     "output_type": "execute_result"
    }
   ],
   "source": [
    "a[0:10]"
   ]
  },
  {
   "cell_type": "markdown",
   "id": "dde03e12",
   "metadata": {},
   "source": [
    "> if we try to access an individual error that doesnt exist it gives error\\\n",
    "but if we try to go out of range with slicing it returns data"
   ]
  },
  {
   "cell_type": "code",
   "execution_count": 16,
   "id": "7375b385",
   "metadata": {},
   "outputs": [
    {
     "data": {
      "text/plain": [
       "'ineuron'"
      ]
     },
     "execution_count": 16,
     "metadata": {},
     "output_type": "execute_result"
    }
   ],
   "source": [
    "b = \"ineuron\"\n",
    "b[0:50] #doesnt give error"
   ]
  },
  {
   "cell_type": "markdown",
   "id": "a8f4656a",
   "metadata": {},
   "source": [
    "> by default step is **1**. if we try to get data with expression **b[-1:-4]** it returns nothing\\\n",
    "because it goes forward"
   ]
  },
  {
   "cell_type": "code",
   "execution_count": 20,
   "id": "b1706c57",
   "metadata": {},
   "outputs": [
    {
     "data": {
      "text/plain": [
       "''"
      ]
     },
     "execution_count": 20,
     "metadata": {},
     "output_type": "execute_result"
    }
   ],
   "source": [
    "b[-1:-4] # doesnt give any data because it goes forward as (positive step)"
   ]
  },
  {
   "cell_type": "markdown",
   "id": "54b59d8b",
   "metadata": {},
   "source": [
    "> **b[0:100:-1]** gives an empty string because it starts from begining and goes backward"
   ]
  },
  {
   "cell_type": "code",
   "execution_count": 21,
   "id": "e1b23fab",
   "metadata": {},
   "outputs": [
    {
     "data": {
      "text/plain": [
       "''"
      ]
     },
     "execution_count": 21,
     "metadata": {},
     "output_type": "execute_result"
    }
   ],
   "source": [
    "b[0:100:-1]"
   ]
  },
  {
   "cell_type": "markdown",
   "id": "53e9af3b",
   "metadata": {},
   "source": [
    "> if the **direction** of :end and  **step** doesnt match in indexing then statements returns nothing"
   ]
  },
  {
   "cell_type": "code",
   "execution_count": 24,
   "id": "9dc7dcd2",
   "metadata": {},
   "outputs": [
    {
     "data": {
      "text/plain": [
       "''"
      ]
     },
     "execution_count": 24,
     "metadata": {},
     "output_type": "execute_result"
    }
   ],
   "source": [
    "b[0:100:-1] # end is forward but step is backward so result is empty"
   ]
  },
  {
   "cell_type": "markdown",
   "id": "83bc9e25",
   "metadata": {},
   "source": [
    "> **b[::]** by default start is 0\\\n",
    "end is size of str \\\n",
    "step is 1\\\n",
    "returns the string itself"
   ]
  },
  {
   "cell_type": "code",
   "execution_count": 25,
   "id": "03fe95b6",
   "metadata": {},
   "outputs": [
    {
     "data": {
      "text/plain": [
       "'ineuron'"
      ]
     },
     "execution_count": 25,
     "metadata": {},
     "output_type": "execute_result"
    }
   ],
   "source": [
    "b[::] #return the string itself"
   ]
  },
  {
   "cell_type": "markdown",
   "id": "d3242149",
   "metadata": {},
   "source": [
    "> **b[::-1]** returns the string in reverse order\\\n",
    "if we do not specify stat and end it decides based on direction so revert in this case"
   ]
  },
  {
   "cell_type": "code",
   "execution_count": 27,
   "id": "00b7214a",
   "metadata": {},
   "outputs": [
    {
     "data": {
      "text/plain": [
       "'norueni'"
      ]
     },
     "execution_count": 27,
     "metadata": {},
     "output_type": "execute_result"
    }
   ],
   "source": [
    "b[::-1]"
   ]
  },
  {
   "cell_type": "markdown",
   "id": "8c910347",
   "metadata": {},
   "source": [
    "> multiplying a string with a number n then returns the string n times"
   ]
  },
  {
   "cell_type": "code",
   "execution_count": 28,
   "id": "92195e33",
   "metadata": {},
   "outputs": [
    {
     "data": {
      "text/plain": [
       "'ramramram'"
      ]
     },
     "execution_count": 28,
     "metadata": {},
     "output_type": "execute_result"
    }
   ],
   "source": [
    "\"ram\"*3"
   ]
  },
  {
   "cell_type": "markdown",
   "id": "b7cae6b2",
   "metadata": {},
   "source": [
    "> **+** operator concatinates two string"
   ]
  },
  {
   "cell_type": "code",
   "execution_count": 29,
   "id": "2b58752a",
   "metadata": {},
   "outputs": [
    {
     "data": {
      "text/plain": [
       "'ramhello'"
      ]
     },
     "execution_count": 29,
     "metadata": {},
     "output_type": "execute_result"
    }
   ],
   "source": [
    "\"ram\"+\"hello\""
   ]
  },
  {
   "cell_type": "markdown",
   "id": "248ea223",
   "metadata": {},
   "source": [
    "> to find the index of particular character we can use **.find()** function\\\n",
    "it the character occurs many times only returns the first occurance"
   ]
  },
  {
   "cell_type": "code",
   "execution_count": 32,
   "id": "2ec7aa6e",
   "metadata": {},
   "outputs": [
    {
     "data": {
      "text/plain": [
       "1"
      ]
     },
     "execution_count": 32,
     "metadata": {},
     "output_type": "execute_result"
    }
   ],
   "source": [
    "a = \"ramazan\"\n",
    "a.find()"
   ]
  },
  {
   "cell_type": "markdown",
   "id": "af74b9b6",
   "metadata": {},
   "source": [
    "> if the substring we look for doesn exist in the string .find() returns **-1**"
   ]
  },
  {
   "cell_type": "code",
   "execution_count": 33,
   "id": "275678af",
   "metadata": {},
   "outputs": [
    {
     "data": {
      "text/plain": [
       "-1"
      ]
     },
     "execution_count": 33,
     "metadata": {},
     "output_type": "execute_result"
    }
   ],
   "source": [
    "a.find(\"x\")"
   ]
  },
  {
   "cell_type": "markdown",
   "id": "4d9f88e6",
   "metadata": {},
   "source": [
    "> **.count(s)** return the occurance time of the character we are looking for(s)"
   ]
  },
  {
   "cell_type": "code",
   "execution_count": 1,
   "id": "a1bfaf14",
   "metadata": {},
   "outputs": [
    {
     "ename": "NameError",
     "evalue": "name 'a' is not defined",
     "output_type": "error",
     "traceback": [
      "\u001b[1;31m---------------------------------------------------------------------------\u001b[0m",
      "\u001b[1;31mNameError\u001b[0m                                 Traceback (most recent call last)",
      "\u001b[1;32m~\\AppData\\Local\\Temp\\ipykernel_1052\\1147867048.py\u001b[0m in \u001b[0;36m<module>\u001b[1;34m\u001b[0m\n\u001b[1;32m----> 1\u001b[1;33m \u001b[0ma\u001b[0m\u001b[1;33m.\u001b[0m\u001b[0mcount\u001b[0m\u001b[1;33m(\u001b[0m\u001b[1;34m\"a\"\u001b[0m\u001b[1;33m)\u001b[0m \u001b[1;31m# a='my name is ramazan'\u001b[0m\u001b[1;33m\u001b[0m\u001b[1;33m\u001b[0m\u001b[0m\n\u001b[0m",
      "\u001b[1;31mNameError\u001b[0m: name 'a' is not defined"
     ]
    }
   ],
   "source": [
    "a.count(\"a\") # a='my name is ramazan'\n"
   ]
  },
  {
   "cell_type": "markdown",
   "id": "5dda8840",
   "metadata": {},
   "source": [
    "> to seperate each word seperated by space in a string use **.split()** method.\\\n",
    "funciton returns a list\\\n",
    "by default it splits the string based on **space**\\\n",
    "we can specify the delimiter to split by"
   ]
  },
  {
   "cell_type": "code",
   "execution_count": 38,
   "id": "073435ce",
   "metadata": {},
   "outputs": [
    {
     "data": {
      "text/plain": [
       "['my', 'name', 'is', 'ramazan']"
      ]
     },
     "execution_count": 38,
     "metadata": {},
     "output_type": "execute_result"
    }
   ],
   "source": [
    "a.split()"
   ]
  },
  {
   "cell_type": "code",
   "execution_count": 40,
   "id": "daf4d2bd",
   "metadata": {},
   "outputs": [
    {
     "data": {
      "text/plain": [
       "['my n', 'me is r', 'm', 'z', 'n']"
      ]
     },
     "execution_count": 40,
     "metadata": {},
     "output_type": "execute_result"
    }
   ],
   "source": [
    "a.split(\"a\") # uses \"a\" as split delimiter"
   ]
  },
  {
   "cell_type": "markdown",
   "id": "9e6cdc66",
   "metadata": {},
   "source": [
    "> **.upper()** makes all characters upper in the string"
   ]
  },
  {
   "cell_type": "code",
   "execution_count": 41,
   "id": "6f4b1f02",
   "metadata": {},
   "outputs": [
    {
     "data": {
      "text/plain": [
       "'MY NAME IS RAMAZAN'"
      ]
     },
     "execution_count": 41,
     "metadata": {},
     "output_type": "execute_result"
    }
   ],
   "source": [
    "a.upper()"
   ]
  },
  {
   "cell_type": "markdown",
   "id": "b8344a51",
   "metadata": {},
   "source": [
    "> **.swapcase()** swaps the lower to upper and vice versa"
   ]
  },
  {
   "cell_type": "code",
   "execution_count": 42,
   "id": "51bad9ff",
   "metadata": {},
   "outputs": [
    {
     "data": {
      "text/plain": [
       "'aBc'"
      ]
     },
     "execution_count": 42,
     "metadata": {},
     "output_type": "execute_result"
    }
   ],
   "source": [
    "\"AbC\".swapcase()"
   ]
  },
  {
   "cell_type": "markdown",
   "id": "625e0f81",
   "metadata": {},
   "source": [
    "**.title()** makes each letter of word upper like titles"
   ]
  },
  {
   "cell_type": "code",
   "execution_count": 43,
   "id": "89cc3ab3",
   "metadata": {},
   "outputs": [
    {
     "data": {
      "text/plain": [
       "'My Name Is Ramazan'"
      ]
     },
     "execution_count": 43,
     "metadata": {},
     "output_type": "execute_result"
    }
   ],
   "source": [
    "\"my name is ramazan\".title()"
   ]
  },
  {
   "cell_type": "markdown",
   "id": "34778bcd",
   "metadata": {},
   "source": [
    "> **.capitalize()** makes the first letter upper and others lower"
   ]
  },
  {
   "cell_type": "code",
   "execution_count": 45,
   "id": "e776eff5",
   "metadata": {},
   "outputs": [
    {
     "data": {
      "text/plain": [
       "'My name is ramazan'"
      ]
     },
     "execution_count": 45,
     "metadata": {},
     "output_type": "execute_result"
    }
   ],
   "source": [
    "\"my Name is RAmazan\".capitalize()"
   ]
  },
  {
   "cell_type": "markdown",
   "id": "8c8cc79c",
   "metadata": {},
   "source": [
    "> **\" \".join()** puts space after every character\\\n",
    "**s.join(a)** puts s after each character of a"
   ]
  },
  {
   "cell_type": "code",
   "execution_count": 46,
   "id": "9720b722",
   "metadata": {},
   "outputs": [
    {
     "data": {
      "text/plain": [
       "'rhelloahellom'"
      ]
     },
     "execution_count": 46,
     "metadata": {},
     "output_type": "execute_result"
    }
   ],
   "source": [
    "\"hello\".join(\"ram\")"
   ]
  },
  {
   "cell_type": "markdown",
   "id": "282f5e08",
   "metadata": {},
   "source": [
    "> **s.rstrip()**, strips trailing space\\\n",
    "**s.lstrip()** strips leading space\\\n",
    "**s.strip()** strips leading and trailing spaces"
   ]
  },
  {
   "cell_type": "code",
   "execution_count": 47,
   "id": "71d09922",
   "metadata": {},
   "outputs": [
    {
     "data": {
      "text/plain": [
       "' hello'"
      ]
     },
     "execution_count": 47,
     "metadata": {},
     "output_type": "execute_result"
    }
   ],
   "source": [
    "\" hello \".rstrip()"
   ]
  },
  {
   "cell_type": "code",
   "execution_count": 48,
   "id": "ae1bc79e",
   "metadata": {},
   "outputs": [
    {
     "data": {
      "text/plain": [
       "'hello '"
      ]
     },
     "execution_count": 48,
     "metadata": {},
     "output_type": "execute_result"
    }
   ],
   "source": [
    "\" hello \".lstrip()"
   ]
  },
  {
   "cell_type": "code",
   "execution_count": 49,
   "id": "fb8884bb",
   "metadata": {},
   "outputs": [
    {
     "data": {
      "text/plain": [
       "'hello'"
      ]
     },
     "execution_count": 49,
     "metadata": {},
     "output_type": "execute_result"
    }
   ],
   "source": [
    "\" hello \".strip()"
   ]
  },
  {
   "cell_type": "markdown",
   "id": "835639c7",
   "metadata": {},
   "source": [
    "> **s.replace(x, y)** replace x by y in a string"
   ]
  },
  {
   "cell_type": "code",
   "execution_count": 50,
   "id": "3d8f8d7a",
   "metadata": {},
   "outputs": [
    {
     "data": {
      "text/plain": [
       "'rbmbzbn'"
      ]
     },
     "execution_count": 50,
     "metadata": {},
     "output_type": "execute_result"
    }
   ],
   "source": [
    "\"ramazan\".replace(\"a\", \"b\")"
   ]
  },
  {
   "cell_type": "markdown",
   "id": "9614f744",
   "metadata": {},
   "source": [
    "> **s.expandtabs()** expands \\t in the string to 3 space character"
   ]
  },
  {
   "cell_type": "code",
   "execution_count": 51,
   "id": "4343d6f4",
   "metadata": {},
   "outputs": [
    {
     "data": {
      "text/plain": [
       "'hello   world'"
      ]
     },
     "execution_count": 51,
     "metadata": {},
     "output_type": "execute_result"
    }
   ],
   "source": [
    "\"hello\\tworld\".expandtabs()"
   ]
  },
  {
   "cell_type": "markdown",
   "id": "87b00e83",
   "metadata": {},
   "source": [
    "> **s.center(n, c)** puts s in the center and puts n times charater aroun s"
   ]
  },
  {
   "cell_type": "code",
   "execution_count": 52,
   "id": "bedd2849",
   "metadata": {},
   "outputs": [
    {
     "data": {
      "text/plain": [
       "'xxxxxxxxxxxxxxxxxxsudhxxxxxxxxxxxxxxxxxx'"
      ]
     },
     "execution_count": 52,
     "metadata": {},
     "output_type": "execute_result"
    }
   ],
   "source": [
    "\"sudh\".center(40, \"x\")"
   ]
  },
  {
   "cell_type": "markdown",
   "id": "6e055c8c",
   "metadata": {},
   "source": [
    "> all functions starts with **.isxxxx** returns true or false"
   ]
  },
  {
   "cell_type": "code",
   "execution_count": 6,
   "id": "c9739332",
   "metadata": {},
   "outputs": [
    {
     "data": {
      "text/plain": [
       "True"
      ]
     },
     "execution_count": 6,
     "metadata": {},
     "output_type": "execute_result"
    }
   ],
   "source": [
    "s = \"  \"\n",
    "s.isspace()"
   ]
  },
  {
   "cell_type": "markdown",
   "id": "96236c9c",
   "metadata": {},
   "source": [
    "# LİST"
   ]
  },
  {
   "cell_type": "code",
   "execution_count": 12,
   "id": "807d135c",
   "metadata": {},
   "outputs": [],
   "source": [
    "l = [\"sudh\", 1, 4+3j, 345.96]"
   ]
  },
  {
   "cell_type": "markdown",
   "id": "9d00993a",
   "metadata": {},
   "source": [
    "> list is collection of homogenious or heterogenious items\\\n",
    "accessing an item in a list is just like string\\\n",
    "it supports forward and backward indexing\n",
    "\n",
    "\n"
   ]
  },
  {
   "cell_type": "code",
   "execution_count": 13,
   "id": "d6c95e69",
   "metadata": {},
   "outputs": [
    {
     "data": {
      "text/plain": [
       "'sudh'"
      ]
     },
     "execution_count": 13,
     "metadata": {},
     "output_type": "execute_result"
    }
   ],
   "source": [
    "l[0]"
   ]
  },
  {
   "cell_type": "code",
   "execution_count": 14,
   "id": "fb1a5765",
   "metadata": {},
   "outputs": [
    {
     "data": {
      "text/plain": [
       "345.96"
      ]
     },
     "execution_count": 14,
     "metadata": {},
     "output_type": "execute_result"
    }
   ],
   "source": [
    "l[-1]"
   ]
  },
  {
   "cell_type": "code",
   "execution_count": 15,
   "id": "043434d2",
   "metadata": {},
   "outputs": [
    {
     "data": {
      "text/plain": [
       "[345.96, (4+3j), 1, 'sudh']"
      ]
     },
     "execution_count": 15,
     "metadata": {},
     "output_type": "execute_result"
    }
   ],
   "source": [
    "l[::-1]"
   ]
  },
  {
   "cell_type": "code",
   "execution_count": 16,
   "id": "8002576a",
   "metadata": {},
   "outputs": [
    {
     "data": {
      "text/plain": [
       "'u'"
      ]
     },
     "execution_count": 16,
     "metadata": {},
     "output_type": "execute_result"
    }
   ],
   "source": [
    "l[0][1]"
   ]
  },
  {
   "cell_type": "markdown",
   "id": "19f69dc7",
   "metadata": {},
   "source": [
    "> addition operation conctinates two list"
   ]
  },
  {
   "cell_type": "code",
   "execution_count": 17,
   "id": "73167ecf",
   "metadata": {},
   "outputs": [
    {
     "data": {
      "text/plain": [
       "['sudh', 'kumar', 432, 'xyz', 'pqr', 3.2]"
      ]
     },
     "execution_count": 17,
     "metadata": {},
     "output_type": "execute_result"
    }
   ],
   "source": [
    "l1 = [\"sudh\", \"kumar\", 432]\n",
    "l2 = [\"xyz\", \"pqr\", 3.2]\n",
    "l1+l2"
   ]
  },
  {
   "cell_type": "markdown",
   "id": "6f022533",
   "metadata": {},
   "source": [
    "> l[]*n extends list n times"
   ]
  },
  {
   "cell_type": "code",
   "execution_count": 18,
   "id": "f8384375",
   "metadata": {},
   "outputs": [
    {
     "data": {
      "text/plain": [
       "[1, 2, 1, 2]"
      ]
     },
     "execution_count": 18,
     "metadata": {},
     "output_type": "execute_result"
    }
   ],
   "source": [
    "l = [1,2]\n",
    "l*2"
   ]
  },
  {
   "cell_type": "markdown",
   "id": "5fb25658",
   "metadata": {},
   "source": [
    "> replace an element in a list "
   ]
  },
  {
   "cell_type": "code",
   "execution_count": 19,
   "id": "1e603525",
   "metadata": {},
   "outputs": [],
   "source": [
    "l = [\"a\", \"b\", \"c\"]"
   ]
  },
  {
   "cell_type": "code",
   "execution_count": 20,
   "id": "fafeb788",
   "metadata": {},
   "outputs": [
    {
     "data": {
      "text/plain": [
       "['x', 'b', 'c']"
      ]
     },
     "execution_count": 20,
     "metadata": {},
     "output_type": "execute_result"
    }
   ],
   "source": [
    "l[0] = \"x\"\n",
    "l"
   ]
  },
  {
   "cell_type": "markdown",
   "id": "4dd5c799",
   "metadata": {},
   "source": [
    "## Mutable and Immutable\n"
   ]
  },
  {
   "cell_type": "markdown",
   "id": "e65d6567",
   "metadata": {},
   "source": [
    "> list is mutable. we can modify an item in list.\\\n",
    "Strings are immutable we can not assingn a character at specific position"
   ]
  },
  {
   "cell_type": "code",
   "execution_count": 22,
   "id": "722fb0ec",
   "metadata": {
    "collapsed": true
   },
   "outputs": [
    {
     "ename": "TypeError",
     "evalue": "'str' object does not support item assignment",
     "output_type": "error",
     "traceback": [
      "\u001b[1;31m---------------------------------------------------------------------------\u001b[0m",
      "\u001b[1;31mTypeError\u001b[0m                                 Traceback (most recent call last)",
      "\u001b[1;32m~\\AppData\\Local\\Temp\\ipykernel_12684\\1720241896.py\u001b[0m in \u001b[0;36m<module>\u001b[1;34m\u001b[0m\n\u001b[0;32m      1\u001b[0m \u001b[0ml\u001b[0m \u001b[1;33m=\u001b[0m \u001b[1;33m[\u001b[0m\u001b[1;34m\"sudh\"\u001b[0m\u001b[1;33m,\u001b[0m \u001b[1;34m\"ram\"\u001b[0m\u001b[1;33m,\u001b[0m \u001b[1;34m\"kum\"\u001b[0m\u001b[1;33m]\u001b[0m\u001b[1;33m\u001b[0m\u001b[1;33m\u001b[0m\u001b[0m\n\u001b[1;32m----> 2\u001b[1;33m \u001b[0ml\u001b[0m\u001b[1;33m[\u001b[0m\u001b[1;36m0\u001b[0m\u001b[1;33m]\u001b[0m\u001b[1;33m[\u001b[0m\u001b[1;36m0\u001b[0m\u001b[1;33m]\u001b[0m \u001b[1;33m=\u001b[0m \u001b[1;34m\"x\"\u001b[0m\u001b[1;33m\u001b[0m\u001b[1;33m\u001b[0m\u001b[0m\n\u001b[0m",
      "\u001b[1;31mTypeError\u001b[0m: 'str' object does not support item assignment"
     ]
    }
   ],
   "source": [
    "l = [\"sudh\", \"ram\", \"kum\"]\n",
    "l[0][0] = \"x\" # immutable gives error "
   ]
  },
  {
   "cell_type": "markdown",
   "id": "04d8a2c1",
   "metadata": {},
   "source": [
    "> **s.replace()** doesnt mutate the string. it just creates new one. original string stays the same"
   ]
  },
  {
   "cell_type": "code",
   "execution_count": 24,
   "id": "a5f7d31e",
   "metadata": {},
   "outputs": [
    {
     "data": {
      "text/plain": [
       "'samazan'"
      ]
     },
     "execution_count": 24,
     "metadata": {},
     "output_type": "execute_result"
    }
   ],
   "source": [
    "s = \"ramazan\"\n",
    "s.replace(\"r\", \"s\")\n"
   ]
  },
  {
   "cell_type": "code",
   "execution_count": 25,
   "id": "1affe5ab",
   "metadata": {},
   "outputs": [
    {
     "data": {
      "text/plain": [
       "'ramazan'"
      ]
     },
     "execution_count": 25,
     "metadata": {},
     "output_type": "execute_result"
    }
   ],
   "source": [
    "s"
   ]
  },
  {
   "cell_type": "markdown",
   "id": "aae57c3c",
   "metadata": {},
   "source": [
    "> **l.append(e)** appends the element at the end of the list"
   ]
  },
  {
   "cell_type": "code",
   "execution_count": 26,
   "id": "654c529d",
   "metadata": {},
   "outputs": [
    {
     "data": {
      "text/plain": [
       "['a']"
      ]
     },
     "execution_count": 26,
     "metadata": {},
     "output_type": "execute_result"
    }
   ],
   "source": [
    "l = []\n",
    "l.append(\"a\")\n",
    "l"
   ]
  },
  {
   "cell_type": "markdown",
   "id": "c0a34395",
   "metadata": {},
   "source": [
    "> **l.pop()** removes and returns the last element in the list\n"
   ]
  },
  {
   "cell_type": "code",
   "execution_count": 27,
   "id": "cc0ef7b5",
   "metadata": {},
   "outputs": [
    {
     "data": {
      "text/plain": [
       "'a'"
      ]
     },
     "execution_count": 27,
     "metadata": {},
     "output_type": "execute_result"
    }
   ],
   "source": [
    "l.pop()"
   ]
  },
  {
   "cell_type": "markdown",
   "id": "53e4cc99",
   "metadata": {},
   "source": [
    "> **l.pop(int)** removes and returns the element at the given int position\n"
   ]
  },
  {
   "cell_type": "code",
   "execution_count": 29,
   "id": "ccd7eea4",
   "metadata": {},
   "outputs": [
    {
     "data": {
      "text/plain": [
       "1"
      ]
     },
     "execution_count": 29,
     "metadata": {},
     "output_type": "execute_result"
    }
   ],
   "source": [
    "l = [1,2,3,4]\n",
    "l.pop(0)"
   ]
  },
  {
   "cell_type": "code",
   "execution_count": 30,
   "id": "5bf24803",
   "metadata": {},
   "outputs": [
    {
     "data": {
      "text/plain": [
       "[2, 3, 4]"
      ]
     },
     "execution_count": 30,
     "metadata": {},
     "output_type": "execute_result"
    }
   ],
   "source": [
    "l"
   ]
  },
  {
   "cell_type": "markdown",
   "id": "cd6761e9",
   "metadata": {},
   "source": [
    "> to insert an element at specific location use\\\n",
    "**l.insert(index, object)**\\\n",
    "inserts object to index\\\n",
    "after insertion l[index] becomes object\n"
   ]
  },
  {
   "cell_type": "code",
   "execution_count": 31,
   "id": "437e217d",
   "metadata": {},
   "outputs": [
    {
     "data": {
      "text/plain": [
       "[1, 'a', 2, 3]"
      ]
     },
     "execution_count": 31,
     "metadata": {},
     "output_type": "execute_result"
    }
   ],
   "source": [
    "l = [1,2,3]\n",
    "l.insert(1, \"a\")\n",
    "l"
   ]
  },
  {
   "cell_type": "code",
   "execution_count": null,
   "id": "a5a671b6",
   "metadata": {},
   "outputs": [],
   "source": []
  },
  {
   "cell_type": "code",
   "execution_count": null,
   "id": "6c5e604a",
   "metadata": {},
   "outputs": [],
   "source": []
  },
  {
   "cell_type": "code",
   "execution_count": null,
   "id": "bbdc325c",
   "metadata": {},
   "outputs": [],
   "source": []
  },
  {
   "cell_type": "code",
   "execution_count": null,
   "id": "ab5c648e",
   "metadata": {},
   "outputs": [],
   "source": []
  },
  {
   "cell_type": "code",
   "execution_count": null,
   "id": "5e298460",
   "metadata": {},
   "outputs": [],
   "source": []
  },
  {
   "cell_type": "code",
   "execution_count": null,
   "id": "ee552a97",
   "metadata": {},
   "outputs": [],
   "source": []
  },
  {
   "cell_type": "code",
   "execution_count": null,
   "id": "0855095c",
   "metadata": {},
   "outputs": [],
   "source": []
  }
 ],
 "metadata": {
  "kernelspec": {
   "display_name": "Python 3 (ipykernel)",
   "language": "python",
   "name": "python3"
  },
  "language_info": {
   "codemirror_mode": {
    "name": "ipython",
    "version": 3
   },
   "file_extension": ".py",
   "mimetype": "text/x-python",
   "name": "python",
   "nbconvert_exporter": "python",
   "pygments_lexer": "ipython3",
   "version": "3.9.13"
  }
 },
 "nbformat": 4,
 "nbformat_minor": 5
}
