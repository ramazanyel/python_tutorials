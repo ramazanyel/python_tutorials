{
 "cells": [
  {
   "cell_type": "markdown",
   "id": "3ef0046a",
   "metadata": {},
   "source": [
    "# Python Basics"
   ]
  },
  {
   "cell_type": "markdown",
   "id": "ffb01e14",
   "metadata": {},
   "source": [
    "> the most basic funtion is print"
   ]
  },
  {
   "cell_type": "code",
   "execution_count": 5,
   "id": "34afceef",
   "metadata": {},
   "outputs": [
    {
     "name": "stdout",
     "output_type": "stream",
     "text": [
      "hello world\n"
     ]
    }
   ],
   "source": [
    "print(\"hello world\")"
   ]
  },
  {
   "cell_type": "markdown",
   "id": "c96dce7b",
   "metadata": {},
   "source": [
    "> **shitf+tab**  gives you clue about the function"
   ]
  },
  {
   "cell_type": "markdown",
   "id": "31c90aa2",
   "metadata": {},
   "source": [
    "---"
   ]
  },
  {
   "cell_type": "markdown",
   "id": "4f1f5b25",
   "metadata": {},
   "source": [
    "> we want to keep some values to reuse again. thats why we use variables to keep those values\n"
   ]
  },
  {
   "cell_type": "code",
   "execution_count": 6,
   "id": "5158ce07",
   "metadata": {},
   "outputs": [],
   "source": [
    "a = 10"
   ]
  },
  {
   "cell_type": "markdown",
   "id": "0e646235",
   "metadata": {},
   "source": [
    "> in python we dont have to specify the data type"
   ]
  },
  {
   "cell_type": "code",
   "execution_count": 9,
   "id": "210003bc",
   "metadata": {},
   "outputs": [],
   "source": [
    "a = 123\n",
    "b = \"hello\""
   ]
  },
  {
   "cell_type": "markdown",
   "id": "22150c72",
   "metadata": {},
   "source": [
    "> we can use **type()** function to ge the type of an object"
   ]
  },
  {
   "cell_type": "code",
   "execution_count": 10,
   "id": "64e5986b",
   "metadata": {},
   "outputs": [
    {
     "data": {
      "text/plain": [
       "str"
      ]
     },
     "execution_count": 10,
     "metadata": {},
     "output_type": "execute_result"
    }
   ],
   "source": [
    "type(b)"
   ]
  },
  {
   "cell_type": "markdown",
   "id": "92247c5e",
   "metadata": {},
   "source": [
    "> we can create complex numbers in python. for complex numbers use **j** for imaginary part"
   ]
  },
  {
   "cell_type": "code",
   "execution_count": 12,
   "id": "f18f3473",
   "metadata": {},
   "outputs": [],
   "source": [
    "d = 5+6j"
   ]
  },
  {
   "cell_type": "code",
   "execution_count": 13,
   "id": "c12faf3d",
   "metadata": {},
   "outputs": [
    {
     "data": {
      "text/plain": [
       "complex"
      ]
     },
     "execution_count": 13,
     "metadata": {},
     "output_type": "execute_result"
    }
   ],
   "source": [
    "type(d)"
   ]
  },
  {
   "cell_type": "markdown",
   "id": "8206d8b0",
   "metadata": {},
   "source": [
    "> we can create strings with double and single quotes"
   ]
  },
  {
   "cell_type": "code",
   "execution_count": 17,
   "id": "54f7c3ec",
   "metadata": {},
   "outputs": [],
   "source": [
    "s = \"hello\"\n",
    "k = 'hello'"
   ]
  },
  {
   "cell_type": "markdown",
   "id": "c961db2c",
   "metadata": {},
   "source": [
    "> variable name can not start with number but can start with underscore"
   ]
  },
  {
   "cell_type": "code",
   "execution_count": 20,
   "id": "5efbf7b7",
   "metadata": {},
   "outputs": [
    {
     "ename": "SyntaxError",
     "evalue": "starred assignment target must be in a list or tuple (1812323152.py, line 1)",
     "output_type": "error",
     "traceback": [
      "\u001b[1;36m  Cell \u001b[1;32mIn[20], line 1\u001b[1;36m\u001b[0m\n\u001b[1;33m    *a = 5 // valid\u001b[0m\n\u001b[1;37m    ^\u001b[0m\n\u001b[1;31mSyntaxError\u001b[0m\u001b[1;31m:\u001b[0m starred assignment target must be in a list or tuple\n"
     ]
    }
   ],
   "source": [
    "*a = 5 #invalid"
   ]
  },
  {
   "cell_type": "code",
   "execution_count": 21,
   "id": "eaa15a52",
   "metadata": {},
   "outputs": [],
   "source": [
    "_a = 3 #valid"
   ]
  },
  {
   "cell_type": "markdown",
   "id": "7f7c7f4c",
   "metadata": {},
   "source": [
    "> we can make assignment for multiple variable in one line of code\\\n",
    "the number of variables and values must match otherwise gives errror"
   ]
  },
  {
   "cell_type": "code",
   "execution_count": 22,
   "id": "27b20b43",
   "metadata": {},
   "outputs": [],
   "source": [
    "a,b,c,d = 1,\"a\",2+3j,False"
   ]
  },
  {
   "cell_type": "markdown",
   "id": "c6346a3b",
   "metadata": {},
   "source": [
    "> we can access real and imaginary part of a complex data by **.imag, .real** attriburs"
   ]
  },
  {
   "cell_type": "code",
   "execution_count": 23,
   "id": "3934ba01",
   "metadata": {},
   "outputs": [
    {
     "data": {
      "text/plain": [
       "1.0"
      ]
     },
     "execution_count": 23,
     "metadata": {},
     "output_type": "execute_result"
    }
   ],
   "source": [
    "c = 1+2j\n",
    "c.real"
   ]
  },
  {
   "cell_type": "markdown",
   "id": "e6a3864c",
   "metadata": {},
   "source": [
    "> we can not conctinate string and int\\\n",
    "we can use **str()** function to cast string"
   ]
  },
  {
   "cell_type": "code",
   "execution_count": 24,
   "id": "1142a4a1",
   "metadata": {},
   "outputs": [
    {
     "ename": "TypeError",
     "evalue": "can only concatenate str (not \"int\") to str",
     "output_type": "error",
     "traceback": [
      "\u001b[1;31m---------------------------------------------------------------------------\u001b[0m",
      "\u001b[1;31mTypeError\u001b[0m                                 Traceback (most recent call last)",
      "Cell \u001b[1;32mIn[24], line 1\u001b[0m\n\u001b[1;32m----> 1\u001b[0m \u001b[38;5;124;43m\"\u001b[39;49m\u001b[38;5;124;43mabc\u001b[39;49m\u001b[38;5;124;43m\"\u001b[39;49m\u001b[38;5;241;43m+\u001b[39;49m\u001b[38;5;241;43m4\u001b[39;49m\n",
      "\u001b[1;31mTypeError\u001b[0m: can only concatenate str (not \"int\") to str"
     ]
    }
   ],
   "source": [
    "\"abc\"+4"
   ]
  },
  {
   "cell_type": "markdown",
   "id": "8fea7d0c",
   "metadata": {},
   "source": [
    "> true is considered as 1 and false is considered as 0. both can be used with int in an arthmetic expression\n"
   ]
  },
  {
   "cell_type": "code",
   "execution_count": 25,
   "id": "b03f7e2d",
   "metadata": {},
   "outputs": [
    {
     "data": {
      "text/plain": [
       "2"
      ]
     },
     "execution_count": 25,
     "metadata": {},
     "output_type": "execute_result"
    }
   ],
   "source": [
    "True+True"
   ]
  },
  {
   "cell_type": "markdown",
   "id": "9580e273",
   "metadata": {},
   "source": [
    "> we can get input from user by **input()** function\\\n",
    "input function always gives **string type** back"
   ]
  },
  {
   "cell_type": "code",
   "execution_count": 29,
   "id": "6163545a",
   "metadata": {},
   "outputs": [
    {
     "name": "stdout",
     "output_type": "stream",
     "text": [
      "please gir me an input\n",
      "hello\n"
     ]
    }
   ],
   "source": [
    "inp = input(\"please gir me an input\\n\")"
   ]
  },
  {
   "cell_type": "code",
   "execution_count": 30,
   "id": "63902ba6",
   "metadata": {},
   "outputs": [
    {
     "data": {
      "text/plain": [
       "'hello'"
      ]
     },
     "execution_count": 30,
     "metadata": {},
     "output_type": "execute_result"
    }
   ],
   "source": [
    "inp"
   ]
  },
  {
   "cell_type": "code",
   "execution_count": null,
   "id": "47824444",
   "metadata": {},
   "outputs": [],
   "source": []
  }
 ],
 "metadata": {
  "kernelspec": {
   "display_name": "Python 3 (ipykernel)",
   "language": "python",
   "name": "python3"
  },
  "language_info": {
   "codemirror_mode": {
    "name": "ipython",
    "version": 3
   },
   "file_extension": ".py",
   "mimetype": "text/x-python",
   "name": "python",
   "nbconvert_exporter": "python",
   "pygments_lexer": "ipython3",
   "version": "3.9.16"
  }
 },
 "nbformat": 4,
 "nbformat_minor": 5
}
