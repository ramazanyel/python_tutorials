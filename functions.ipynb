{
 "cells": [
  {
   "cell_type": "markdown",
   "id": "b5394615",
   "metadata": {},
   "source": [
    "# FUNCTIONS"
   ]
  },
  {
   "cell_type": "markdown",
   "id": "a901575e",
   "metadata": {},
   "source": [
    "> we need to use keyword **def** to create a function"
   ]
  },
  {
   "cell_type": "markdown",
   "id": "349a0cfe",
   "metadata": {},
   "source": [
    "> we can use **pass** if i dont want to implement anything in a function\\\n",
    "otherwise it creates error if we the function block empty"
   ]
  },
  {
   "cell_type": "code",
   "execution_count": 2,
   "id": "b6276f75",
   "metadata": {},
   "outputs": [],
   "source": [
    "def test():\n",
    "    pass"
   ]
  },
  {
   "cell_type": "markdown",
   "id": "b8481550",
   "metadata": {},
   "source": [
    "> if we assign a function to a variable the type of variable will be the return type of func.\\\n",
    "if there is no return in the func. than the return type will be **NoneType**"
   ]
  },
  {
   "cell_type": "markdown",
   "id": "f66e8128",
   "metadata": {},
   "source": [
    "> below function prints a string but returns nothing"
   ]
  },
  {
   "cell_type": "code",
   "execution_count": 3,
   "id": "1028a8b2",
   "metadata": {},
   "outputs": [],
   "source": [
    "def test1():\n",
    "    print(\"hello\")"
   ]
  },
  {
   "cell_type": "code",
   "execution_count": 4,
   "id": "db3f7859",
   "metadata": {},
   "outputs": [
    {
     "name": "stdout",
     "output_type": "stream",
     "text": [
      "hello\n"
     ]
    },
    {
     "data": {
      "text/plain": [
       "NoneType"
      ]
     },
     "execution_count": 4,
     "metadata": {},
     "output_type": "execute_result"
    }
   ],
   "source": [
    "a = test1()\n",
    "type(a)"
   ]
  },
  {
   "cell_type": "markdown",
   "id": "f01f8776",
   "metadata": {},
   "source": [
    "> now the func below returns a string and the function call can be treated as return type"
   ]
  },
  {
   "cell_type": "code",
   "execution_count": 5,
   "id": "36c629da",
   "metadata": {},
   "outputs": [],
   "source": [
    "def test2():\n",
    "    return \"this is my first function\""
   ]
  },
  {
   "cell_type": "code",
   "execution_count": 8,
   "id": "1f148b76",
   "metadata": {},
   "outputs": [
    {
     "data": {
      "text/plain": [
       "str"
      ]
     },
     "execution_count": 8,
     "metadata": {},
     "output_type": "execute_result"
    }
   ],
   "source": [
    "type(test2())"
   ]
  },
  {
   "cell_type": "code",
   "execution_count": 10,
   "id": "1a3f4749",
   "metadata": {},
   "outputs": [
    {
     "data": {
      "text/plain": [
       "'this is my first function sudh'"
      ]
     },
     "execution_count": 10,
     "metadata": {},
     "output_type": "execute_result"
    }
   ],
   "source": [
    "test2()+\" sudh\""
   ]
  },
  {
   "cell_type": "markdown",
   "id": "9c5c19a3",
   "metadata": {},
   "source": [
    "> it is possible to return multiple items at once by putting comma between and the return type will be **tuple**"
   ]
  },
  {
   "cell_type": "code",
   "execution_count": 12,
   "id": "b38d7780",
   "metadata": {},
   "outputs": [],
   "source": [
    "def test4():\n",
    "    return 1,2,3,\"sudh\", [1,2,3]"
   ]
  },
  {
   "cell_type": "code",
   "execution_count": 13,
   "id": "f4029696",
   "metadata": {},
   "outputs": [
    {
     "data": {
      "text/plain": [
       "tuple"
      ]
     },
     "execution_count": 13,
     "metadata": {},
     "output_type": "execute_result"
    }
   ],
   "source": [
    "type(test4())"
   ]
  },
  {
   "cell_type": "markdown",
   "id": "04e2031f",
   "metadata": {},
   "source": [
    "> we can assign multiple variable at one line. we put comma between names"
   ]
  },
  {
   "cell_type": "code",
   "execution_count": 14,
   "id": "6ae8e84b",
   "metadata": {},
   "outputs": [],
   "source": [
    "a,b,c,d,e = test4()"
   ]
  },
  {
   "cell_type": "code",
   "execution_count": 16,
   "id": "7a41fcd8",
   "metadata": {},
   "outputs": [
    {
     "data": {
      "text/plain": [
       "(1, 2, 3, 'sudh', [1, 2, 3])"
      ]
     },
     "execution_count": 16,
     "metadata": {},
     "output_type": "execute_result"
    }
   ],
   "source": [
    "a,b,c,d,e"
   ]
  },
  {
   "cell_type": "markdown",
   "id": "f11f38fb",
   "metadata": {},
   "source": [
    "> we can provide data to the funciton  and get result"
   ]
  },
  {
   "cell_type": "code",
   "execution_count": 21,
   "id": "d290b2b9",
   "metadata": {},
   "outputs": [],
   "source": [
    "def test5(l):\n",
    "    l1 = []\n",
    "    for item in l:\n",
    "        if type(item) == int:\n",
    "            l1.append(item)\n",
    "    return l1\n",
    "    "
   ]
  },
  {
   "cell_type": "code",
   "execution_count": 22,
   "id": "0857f3ec",
   "metadata": {},
   "outputs": [
    {
     "data": {
      "text/plain": [
       "[1, 2, 3]"
      ]
     },
     "execution_count": 22,
     "metadata": {},
     "output_type": "execute_result"
    }
   ],
   "source": [
    "test5([1,2,3,\"sudh\", (\"hello\")])"
   ]
  },
  {
   "cell_type": "markdown",
   "id": "022e1599",
   "metadata": {},
   "source": [
    "> to create a docstring use triple queote after func decleration.\\\n",
    "when we call help method with func name this stiring will be returned"
   ]
  },
  {
   "cell_type": "code",
   "execution_count": 23,
   "id": "a44ff651",
   "metadata": {},
   "outputs": [],
   "source": [
    "def test10(n):\n",
    "    \"\"\"this is docstring for func test10\n",
    "        it only returns the argument given\"\"\"\n",
    "    return n"
   ]
  },
  {
   "cell_type": "code",
   "execution_count": 24,
   "id": "27853065",
   "metadata": {},
   "outputs": [
    {
     "name": "stdout",
     "output_type": "stream",
     "text": [
      "Help on function test10 in module __main__:\n",
      "\n",
      "test10(n)\n",
      "    this is docstring for func test10\n",
      "    it only returns the argument given\n",
      "\n"
     ]
    }
   ],
   "source": [
    "help(test10)"
   ]
  },
  {
   "cell_type": "code",
   "execution_count": null,
   "id": "285992e3",
   "metadata": {},
   "outputs": [],
   "source": []
  },
  {
   "cell_type": "code",
   "execution_count": null,
   "id": "0a332284",
   "metadata": {},
   "outputs": [],
   "source": []
  },
  {
   "cell_type": "code",
   "execution_count": null,
   "id": "39840ddd",
   "metadata": {},
   "outputs": [],
   "source": []
  },
  {
   "cell_type": "code",
   "execution_count": null,
   "id": "f1aa86fc",
   "metadata": {},
   "outputs": [],
   "source": []
  },
  {
   "cell_type": "code",
   "execution_count": null,
   "id": "c15cb940",
   "metadata": {},
   "outputs": [],
   "source": []
  },
  {
   "cell_type": "code",
   "execution_count": null,
   "id": "f0d4a154",
   "metadata": {},
   "outputs": [],
   "source": []
  },
  {
   "cell_type": "code",
   "execution_count": null,
   "id": "5017ddb2",
   "metadata": {},
   "outputs": [],
   "source": []
  },
  {
   "cell_type": "code",
   "execution_count": null,
   "id": "de5504d4",
   "metadata": {},
   "outputs": [],
   "source": []
  },
  {
   "cell_type": "code",
   "execution_count": null,
   "id": "48c7d515",
   "metadata": {},
   "outputs": [],
   "source": []
  },
  {
   "cell_type": "code",
   "execution_count": null,
   "id": "63d0899c",
   "metadata": {},
   "outputs": [],
   "source": []
  },
  {
   "cell_type": "code",
   "execution_count": null,
   "id": "3b547d36",
   "metadata": {},
   "outputs": [],
   "source": []
  },
  {
   "cell_type": "code",
   "execution_count": null,
   "id": "b2124980",
   "metadata": {},
   "outputs": [],
   "source": []
  },
  {
   "cell_type": "code",
   "execution_count": null,
   "id": "48de1c87",
   "metadata": {},
   "outputs": [],
   "source": []
  }
 ],
 "metadata": {
  "kernelspec": {
   "display_name": "Python 3 (ipykernel)",
   "language": "python",
   "name": "python3"
  },
  "language_info": {
   "codemirror_mode": {
    "name": "ipython",
    "version": 3
   },
   "file_extension": ".py",
   "mimetype": "text/x-python",
   "name": "python",
   "nbconvert_exporter": "python",
   "pygments_lexer": "ipython3",
   "version": "3.9.13"
  }
 },
 "nbformat": 4,
 "nbformat_minor": 5
}
