{
 "cells": [
  {
   "cell_type": "markdown",
   "id": "d0468f12",
   "metadata": {},
   "source": [
    "# FUNCTIONS"
   ]
  },
  {
   "cell_type": "markdown",
   "id": "8703e454",
   "metadata": {},
   "source": [
    "> if the number of arguments are fixed we can create a function just providing the proper signature\\\n",
    "but if the number of arguments are not fixed then we use ***args**"
   ]
  },
  {
   "cell_type": "code",
   "execution_count": 9,
   "id": "96ce8185",
   "metadata": {},
   "outputs": [],
   "source": [
    "# create a function that can except any number of argument\n",
    "# arg is not a reserved word we can use any name instead\n",
    "def test(*args):\n",
    "    print(type(args))\n",
    "    for e in args:\n",
    "        print(e)\n",
    "    "
   ]
  },
  {
   "cell_type": "code",
   "execution_count": 10,
   "id": "53865f23",
   "metadata": {},
   "outputs": [
    {
     "name": "stdout",
     "output_type": "stream",
     "text": [
      "<class 'tuple'>\n",
      "1\n",
      "2\n",
      "3\n",
      "4\n",
      "(1, 2, 3)\n"
     ]
    }
   ],
   "source": [
    "test(1,2,3,4,(1,2,3))"
   ]
  },
  {
   "cell_type": "markdown",
   "id": "ed3d8585",
   "metadata": {},
   "source": [
    "> what happens if i also need to pass some specific variables\\\n",
    "we need to put specific values in front of ***args**\\\n",
    "if we dont args will consume all argument and there will be no left arguments for specific parameter\\\n",
    "two way to overcome the problem\n",
    "> - specificly use a=value for some value\n",
    "> - put args to be the last argument in func signature"
   ]
  },
  {
   "cell_type": "code",
   "execution_count": 15,
   "id": "9167a461",
   "metadata": {},
   "outputs": [],
   "source": [
    "def test2(*args, a):\n",
    "    print(a)\n",
    "    for e in args:\n",
    "        print(e)"
   ]
  },
  {
   "cell_type": "code",
   "execution_count": 17,
   "id": "553fa296",
   "metadata": {},
   "outputs": [
    {
     "name": "stdout",
     "output_type": "stream",
     "text": [
      "hello\n",
      "1\n",
      "2\n",
      "3\n"
     ]
    }
   ],
   "source": [
    "test2(1,2,3,a =\"hello\")"
   ]
  },
  {
   "cell_type": "code",
   "execution_count": 18,
   "id": "26b39e1b",
   "metadata": {},
   "outputs": [],
   "source": [
    "def test3(a, *args):\n",
    "    print(a)\n",
    "    for e in args:\n",
    "        print(e)"
   ]
  },
  {
   "cell_type": "code",
   "execution_count": 19,
   "id": "c22cdc08",
   "metadata": {},
   "outputs": [
    {
     "name": "stdout",
     "output_type": "stream",
     "text": [
      "hello\n",
      "1\n",
      "2\n",
      "3\n"
     ]
    }
   ],
   "source": [
    "test3(\"hello\", 1,2,3)"
   ]
  },
  {
   "cell_type": "markdown",
   "id": "0a3d03b3",
   "metadata": {},
   "source": [
    "> positional argument and specific argument must match"
   ]
  },
  {
   "cell_type": "code",
   "execution_count": 21,
   "id": "91b27d49",
   "metadata": {},
   "outputs": [],
   "source": [
    "def test3(*sudh, a):\n",
    "    return sudh, a"
   ]
  },
  {
   "cell_type": "code",
   "execution_count": 22,
   "id": "a9100d7d",
   "metadata": {},
   "outputs": [
    {
     "data": {
      "text/plain": [
       "((34, 65, 654), 'hello')"
      ]
     },
     "execution_count": 22,
     "metadata": {},
     "output_type": "execute_result"
    }
   ],
   "source": [
    "test3(34,65,654, a= \"hello\")"
   ]
  },
  {
   "cell_type": "code",
   "execution_count": 23,
   "id": "7fba0c8d",
   "metadata": {},
   "outputs": [],
   "source": [
    "def test4(*sudh, a,b,c,d):\n",
    "    return sudh,a,b,c,d"
   ]
  },
  {
   "cell_type": "code",
   "execution_count": 26,
   "id": "3c09c0e2",
   "metadata": {},
   "outputs": [
    {
     "data": {
      "text/plain": [
       "((1, 2, 3), 4, 5, 67, 889)"
      ]
     },
     "execution_count": 26,
     "metadata": {},
     "output_type": "execute_result"
    }
   ],
   "source": [
    "test4(1,2,3,a=4,b=5,c=67,d=889)"
   ]
  },
  {
   "cell_type": "markdown",
   "id": "3cc92f10",
   "metadata": {},
   "source": [
    "> if we dont want to write the name of the argument while calling the funciton\\\n",
    "then make the ***args** the last argument of funciton"
   ]
  },
  {
   "cell_type": "code",
   "execution_count": 27,
   "id": "e2fbca5e",
   "metadata": {},
   "outputs": [],
   "source": [
    "def test3(a, *sudh):\n",
    "    return a, sudh"
   ]
  },
  {
   "cell_type": "code",
   "execution_count": 28,
   "id": "5804b1c4",
   "metadata": {},
   "outputs": [
    {
     "ename": "TypeError",
     "evalue": "test3() got multiple values for argument 'a'",
     "output_type": "error",
     "traceback": [
      "\u001b[1;31m---------------------------------------------------------------------------\u001b[0m",
      "\u001b[1;31mTypeError\u001b[0m                                 Traceback (most recent call last)",
      "\u001b[1;32m~\\AppData\\Local\\Temp\\ipykernel_12632\\3379635039.py\u001b[0m in \u001b[0;36m<module>\u001b[1;34m\u001b[0m\n\u001b[1;32m----> 1\u001b[1;33m \u001b[0mtest3\u001b[0m\u001b[1;33m(\u001b[0m\u001b[1;36m1\u001b[0m\u001b[1;33m,\u001b[0m\u001b[1;36m2\u001b[0m\u001b[1;33m,\u001b[0m\u001b[1;36m3\u001b[0m\u001b[1;33m,\u001b[0m\u001b[1;36m4\u001b[0m\u001b[1;33m,\u001b[0m\u001b[0ma\u001b[0m\u001b[1;33m=\u001b[0m\u001b[1;34m\"hello\"\u001b[0m\u001b[1;33m)\u001b[0m\u001b[1;33m\u001b[0m\u001b[1;33m\u001b[0m\u001b[0m\n\u001b[0m",
      "\u001b[1;31mTypeError\u001b[0m: test3() got multiple values for argument 'a'"
     ]
    }
   ],
   "source": [
    "test3(1,2,3,4,a=\"hello\") # by positional argument a is assigned to 1 and then assigned to \"hello\" again it is error"
   ]
  },
  {
   "cell_type": "markdown",
   "id": "af70d12a",
   "metadata": {},
   "source": [
    "> when we call a funciton positional arguments should come first if we use positional and keyword together\\\n",
    "**positional arguments first**"
   ]
  },
  {
   "cell_type": "code",
   "execution_count": 31,
   "id": "ef3c8d8d",
   "metadata": {},
   "outputs": [
    {
     "ename": "SyntaxError",
     "evalue": "positional argument follows keyword argument (1614497659.py, line 1)",
     "output_type": "error",
     "traceback": [
      "\u001b[1;36m  File \u001b[1;32m\"C:\\Users\\ramazan\\AppData\\Local\\Temp\\ipykernel_12632\\1614497659.py\"\u001b[1;36m, line \u001b[1;32m1\u001b[0m\n\u001b[1;33m    test3(a=1,2,3)\u001b[0m\n\u001b[1;37m                 ^\u001b[0m\n\u001b[1;31mSyntaxError\u001b[0m\u001b[1;31m:\u001b[0m positional argument follows keyword argument\n"
     ]
    }
   ],
   "source": [
    "test3(a=1,2,3)"
   ]
  },
  {
   "cell_type": "code",
   "execution_count": 32,
   "id": "2046ffb8",
   "metadata": {},
   "outputs": [],
   "source": [
    "def test5(a,*sudh, b,c):\n",
    "    return a,sudh,b,c"
   ]
  },
  {
   "cell_type": "code",
   "execution_count": 39,
   "id": "d8600fef",
   "metadata": {},
   "outputs": [
    {
     "data": {
      "text/plain": [
       "(5, (6, 7, 8, 9), 2, 3)"
      ]
     },
     "execution_count": 39,
     "metadata": {},
     "output_type": "execute_result"
    }
   ],
   "source": [
    "test5(5,6,7,8,9,b=2,c=3)"
   ]
  },
  {
   "cell_type": "code",
   "execution_count": 45,
   "id": "d83dbf1e",
   "metadata": {},
   "outputs": [],
   "source": [
    "def testx(a, b,c,d,):\n",
    "    return a,b,c,d"
   ]
  },
  {
   "cell_type": "code",
   "execution_count": 47,
   "id": "5fef4f7a",
   "metadata": {},
   "outputs": [
    {
     "data": {
      "text/plain": [
       "(2, 3, 4, 1)"
      ]
     },
     "execution_count": 47,
     "metadata": {},
     "output_type": "execute_result"
    }
   ],
   "source": [
    "testx(2,3,4,1)"
   ]
  },
  {
   "cell_type": "markdown",
   "id": "ab95d093",
   "metadata": {},
   "source": [
    "> what happens if we want to take arbitrary number of key-value pair as argument\\\n",
    "in this case we use ****kvargs**"
   ]
  },
  {
   "cell_type": "code",
   "execution_count": 52,
   "id": "2ea628c8",
   "metadata": {},
   "outputs": [],
   "source": [
    "def test6(**kvargs):\n",
    "    return kvargs"
   ]
  },
  {
   "cell_type": "code",
   "execution_count": 53,
   "id": "c39f146e",
   "metadata": {},
   "outputs": [
    {
     "data": {
      "text/plain": [
       "{'a': 1, 'b': 2, 'c': 3}"
      ]
     },
     "execution_count": 53,
     "metadata": {},
     "output_type": "execute_result"
    }
   ],
   "source": [
    "test6(a=1,b=2,c=3)"
   ]
  },
  {
   "cell_type": "code",
   "execution_count": 55,
   "id": "b190f1ca",
   "metadata": {},
   "outputs": [
    {
     "ename": "TypeError",
     "evalue": "test6() takes 0 positional arguments but 3 were given",
     "output_type": "error",
     "traceback": [
      "\u001b[1;31m---------------------------------------------------------------------------\u001b[0m",
      "\u001b[1;31mTypeError\u001b[0m                                 Traceback (most recent call last)",
      "\u001b[1;32m~\\AppData\\Local\\Temp\\ipykernel_12632\\1312676375.py\u001b[0m in \u001b[0;36m<module>\u001b[1;34m\u001b[0m\n\u001b[1;32m----> 1\u001b[1;33m \u001b[0mtest6\u001b[0m\u001b[1;33m(\u001b[0m\u001b[1;36m1\u001b[0m\u001b[1;33m,\u001b[0m\u001b[1;36m2\u001b[0m\u001b[1;33m,\u001b[0m\u001b[1;36m3\u001b[0m\u001b[1;33m)\u001b[0m \u001b[1;31m# gives error because the function excepts zero pos argument\u001b[0m\u001b[1;33m\u001b[0m\u001b[1;33m\u001b[0m\u001b[0m\n\u001b[0m",
      "\u001b[1;31mTypeError\u001b[0m: test6() takes 0 positional arguments but 3 were given"
     ]
    }
   ],
   "source": [
    "test6(1,2,3) # gives error because the function excepts zero pos argument"
   ]
  },
  {
   "cell_type": "code",
   "execution_count": 63,
   "id": "0baaa1d3",
   "metadata": {},
   "outputs": [],
   "source": [
    "def test8(b, **sudh): # b is positional\n",
    "    return b, sudh"
   ]
  },
  {
   "cell_type": "code",
   "execution_count": 69,
   "id": "a39ce2be",
   "metadata": {},
   "outputs": [
    {
     "ename": "TypeError",
     "evalue": "test8() got multiple values for argument 'b'",
     "output_type": "error",
     "traceback": [
      "\u001b[1;31m---------------------------------------------------------------------------\u001b[0m",
      "\u001b[1;31mTypeError\u001b[0m                                 Traceback (most recent call last)",
      "\u001b[1;32m~\\AppData\\Local\\Temp\\ipykernel_12632\\1469905337.py\u001b[0m in \u001b[0;36m<module>\u001b[1;34m\u001b[0m\n\u001b[1;32m----> 1\u001b[1;33m \u001b[0mtest8\u001b[0m\u001b[1;33m(\u001b[0m\u001b[1;36m1\u001b[0m\u001b[1;33m,\u001b[0m \u001b[0ma\u001b[0m\u001b[1;33m=\u001b[0m\u001b[1;36m5\u001b[0m\u001b[1;33m,\u001b[0m\u001b[0mb\u001b[0m\u001b[1;33m=\u001b[0m\u001b[1;36m3\u001b[0m\u001b[1;33m,\u001b[0m \u001b[0mc\u001b[0m\u001b[1;33m=\u001b[0m\u001b[1;34m\"hello\"\u001b[0m\u001b[1;33m)\u001b[0m\u001b[1;33m\u001b[0m\u001b[1;33m\u001b[0m\u001b[0m\n\u001b[0m",
      "\u001b[1;31mTypeError\u001b[0m: test8() got multiple values for argument 'b'"
     ]
    }
   ],
   "source": [
    "test8(1, a=5,b=3, c=\"hello\")"
   ]
  },
  {
   "cell_type": "code",
   "execution_count": 75,
   "id": "ec35ad2a",
   "metadata": {},
   "outputs": [
    {
     "ename": "SyntaxError",
     "evalue": "invalid syntax (2379696099.py, line 1)",
     "output_type": "error",
     "traceback": [
      "\u001b[1;36m  File \u001b[1;32m\"C:\\Users\\ramazan\\AppData\\Local\\Temp\\ipykernel_12632\\2379696099.py\"\u001b[1;36m, line \u001b[1;32m1\u001b[0m\n\u001b[1;33m    def test11(a, **sudh, *args): # gives sytax error if we use in this order\u001b[0m\n\u001b[1;37m                          ^\u001b[0m\n\u001b[1;31mSyntaxError\u001b[0m\u001b[1;31m:\u001b[0m invalid syntax\n"
     ]
    }
   ],
   "source": [
    "def test11(a, **sudh, *args): # gives sytax error if we use in this order\n",
    "    return a, sudh, args"
   ]
  },
  {
   "cell_type": "code",
   "execution_count": 87,
   "id": "5273f58d",
   "metadata": {},
   "outputs": [],
   "source": [
    "def test12(a, *args, **kvargs, ): # it is working now\n",
    "    return a,args, kvargs"
   ]
  },
  {
   "cell_type": "code",
   "execution_count": 89,
   "id": "045a8375",
   "metadata": {},
   "outputs": [
    {
     "data": {
      "text/plain": [
       "(1, (2, 34, 5), {'b': 5, 'c': 8})"
      ]
     },
     "execution_count": 89,
     "metadata": {},
     "output_type": "execute_result"
    }
   ],
   "source": [
    "test12(1,2,34,5, b=5,c=8)"
   ]
  },
  {
   "cell_type": "markdown",
   "id": "12e14f5a",
   "metadata": {},
   "source": [
    "# lambda"
   ]
  },
  {
   "cell_type": "markdown",
   "id": "c6df3bac",
   "metadata": {},
   "source": [
    "> how to creat a function without name\\\n",
    "sometimes functions are to simple to implement so no need to create func with name"
   ]
  },
  {
   "cell_type": "code",
   "execution_count": 93,
   "id": "c087b19e",
   "metadata": {},
   "outputs": [
    {
     "data": {
      "text/plain": [
       "<function __main__.<lambda>(a, b)>"
      ]
     },
     "execution_count": 93,
     "metadata": {},
     "output_type": "execute_result"
    }
   ],
   "source": [
    "lambda a,b : a*b"
   ]
  },
  {
   "cell_type": "markdown",
   "id": "e5ccda22",
   "metadata": {},
   "source": [
    "> how to call lambda function"
   ]
  },
  {
   "cell_type": "code",
   "execution_count": 94,
   "id": "f8c8f3a3",
   "metadata": {},
   "outputs": [
    {
     "data": {
      "text/plain": [
       "6"
      ]
     },
     "execution_count": 94,
     "metadata": {},
     "output_type": "execute_result"
    }
   ],
   "source": [
    "a = lambda a,b : a*b\n",
    "a(2,3)"
   ]
  },
  {
   "cell_type": "code",
   "execution_count": 5,
   "id": "91f98ede",
   "metadata": {},
   "outputs": [],
   "source": [
    "def test15(a ,*args, **kwargs):\n",
    "    return args, a, kwargs"
   ]
  },
  {
   "cell_type": "code",
   "execution_count": 8,
   "id": "c832742a",
   "metadata": {},
   "outputs": [
    {
     "data": {
      "text/plain": [
       "((1, 2, 3, 5, 4), 'hello', {'b': 555})"
      ]
     },
     "execution_count": 8,
     "metadata": {},
     "output_type": "execute_result"
    }
   ],
   "source": [
    "test15(\"hello\", 1,2,3,5,4,b=555)"
   ]
  },
  {
   "cell_type": "markdown",
   "id": "37c5e878",
   "metadata": {},
   "source": [
    "> **global vs local**\\\n",
    "if we declare and modify a new variable of a in function and then assign a new value\\\n",
    "the global value will remain the same.\\\n",
    "arguments can be consider as local variables\n"
   ]
  },
  {
   "cell_type": "code",
   "execution_count": 21,
   "id": "d011cc12",
   "metadata": {},
   "outputs": [],
   "source": [
    "a=10 # global a\n",
    "def test16(c,d):\n",
    "    a=5               #local a\n",
    "    return c*d"
   ]
  },
  {
   "cell_type": "code",
   "execution_count": 22,
   "id": "e9b26d5d",
   "metadata": {},
   "outputs": [
    {
     "data": {
      "text/plain": [
       "500"
      ]
     },
     "execution_count": 22,
     "metadata": {},
     "output_type": "execute_result"
    }
   ],
   "source": [
    "test16(a,50)"
   ]
  },
  {
   "cell_type": "markdown",
   "id": "902a72c9",
   "metadata": {},
   "source": [
    "> **list comprehension**"
   ]
  },
  {
   "cell_type": "code",
   "execution_count": 23,
   "id": "44501a60",
   "metadata": {},
   "outputs": [],
   "source": [
    "l = [i for i in range(10)]"
   ]
  },
  {
   "cell_type": "code",
   "execution_count": 25,
   "id": "e689c894",
   "metadata": {},
   "outputs": [
    {
     "data": {
      "text/plain": [
       "[2, 3, 4, 5, 6, 7, 8, 9, 10, 11]"
      ]
     },
     "execution_count": 25,
     "metadata": {},
     "output_type": "execute_result"
    }
   ],
   "source": [
    "l1 = [i+2 for i in l]\n",
    "l1"
   ]
  },
  {
   "cell_type": "markdown",
   "id": "d80bc7de",
   "metadata": {},
   "source": [
    "> **dictionary comprehention**"
   ]
  },
  {
   "cell_type": "code",
   "execution_count": 26,
   "id": "e7034ff7",
   "metadata": {},
   "outputs": [
    {
     "data": {
      "text/plain": [
       "{0: 0, 1: 1, 2: 4, 3: 9, 4: 16, 5: 25, 6: 36, 7: 49, 8: 64, 9: 81}"
      ]
     },
     "execution_count": 26,
     "metadata": {},
     "output_type": "execute_result"
    }
   ],
   "source": [
    "{i:i**2 for i in range(10)}"
   ]
  },
  {
   "cell_type": "markdown",
   "id": "42fa54a6",
   "metadata": {},
   "source": [
    "> **tuple comprehention**"
   ]
  },
  {
   "cell_type": "code",
   "execution_count": 28,
   "id": "564a2892",
   "metadata": {},
   "outputs": [
    {
     "data": {
      "text/plain": [
       "<generator object <genexpr> at 0x000001F8DEFFB5F0>"
      ]
     },
     "execution_count": 28,
     "metadata": {},
     "output_type": "execute_result"
    }
   ],
   "source": [
    "(i for i in range(10))  #create generator object"
   ]
  },
  {
   "cell_type": "code",
   "execution_count": 30,
   "id": "a293fbaa",
   "metadata": {},
   "outputs": [
    {
     "data": {
      "text/plain": [
       "(0, 1, 2, 3, 4, 5, 6, 7, 8, 9)"
      ]
     },
     "execution_count": 30,
     "metadata": {},
     "output_type": "execute_result"
    }
   ],
   "source": [
    "tuple(i for i in range(10))  #returns values"
   ]
  },
  {
   "cell_type": "markdown",
   "id": "18bfe352",
   "metadata": {},
   "source": [
    "> **generator vs iterator**"
   ]
  },
  {
   "cell_type": "code",
   "execution_count": 31,
   "id": "b4f4f372",
   "metadata": {},
   "outputs": [
    {
     "ename": "TypeError",
     "evalue": "'int' object is not iterable",
     "output_type": "error",
     "traceback": [
      "\u001b[1;31m---------------------------------------------------------------------------\u001b[0m",
      "\u001b[1;31mTypeError\u001b[0m                                 Traceback (most recent call last)",
      "\u001b[1;32m~\\AppData\\Local\\Temp\\ipykernel_2236\\1320284971.py\u001b[0m in \u001b[0;36m<module>\u001b[1;34m\u001b[0m\n\u001b[0;32m      1\u001b[0m \u001b[0ma\u001b[0m \u001b[1;33m=\u001b[0m \u001b[1;36m56\u001b[0m\u001b[1;33m\u001b[0m\u001b[1;33m\u001b[0m\u001b[0m\n\u001b[1;32m----> 2\u001b[1;33m \u001b[1;32mfor\u001b[0m \u001b[0mi\u001b[0m \u001b[1;32min\u001b[0m \u001b[0ma\u001b[0m\u001b[1;33m:\u001b[0m\u001b[1;33m\u001b[0m\u001b[1;33m\u001b[0m\u001b[0m\n\u001b[0m\u001b[0;32m      3\u001b[0m     \u001b[0mprint\u001b[0m\u001b[1;33m(\u001b[0m\u001b[0ma\u001b[0m\u001b[1;33m)\u001b[0m\u001b[1;33m\u001b[0m\u001b[1;33m\u001b[0m\u001b[0m\n",
      "\u001b[1;31mTypeError\u001b[0m: 'int' object is not iterable"
     ]
    }
   ],
   "source": [
    "a = 56\n",
    "for i in a:   #int object is not iterable error\n",
    "    print(a)"
   ]
  },
  {
   "cell_type": "code",
   "execution_count": 32,
   "id": "e91451a9",
   "metadata": {},
   "outputs": [
    {
     "name": "stdout",
     "output_type": "stream",
     "text": [
      "s\n",
      "u\n",
      "d\n",
      "h\n"
     ]
    }
   ],
   "source": [
    "s = \"sudh\"\n",
    "for i in s:   #string is iterable\n",
    "    print(i)"
   ]
  },
  {
   "cell_type": "code",
   "execution_count": 33,
   "id": "329dbb4a",
   "metadata": {},
   "outputs": [
    {
     "ename": "TypeError",
     "evalue": "'str' object is not an iterator",
     "output_type": "error",
     "traceback": [
      "\u001b[1;31m---------------------------------------------------------------------------\u001b[0m",
      "\u001b[1;31mTypeError\u001b[0m                                 Traceback (most recent call last)",
      "\u001b[1;32m~\\AppData\\Local\\Temp\\ipykernel_2236\\721284513.py\u001b[0m in \u001b[0;36m<module>\u001b[1;34m\u001b[0m\n\u001b[1;32m----> 1\u001b[1;33m \u001b[0mnext\u001b[0m\u001b[1;33m(\u001b[0m\u001b[0ms\u001b[0m\u001b[1;33m)\u001b[0m \u001b[1;31m# s is not iterator\u001b[0m\u001b[1;33m\u001b[0m\u001b[1;33m\u001b[0m\u001b[0m\n\u001b[0m",
      "\u001b[1;31mTypeError\u001b[0m: 'str' object is not an iterator"
     ]
    }
   ],
   "source": [
    "next(s) # s is not iterator"
   ]
  },
  {
   "cell_type": "markdown",
   "id": "664a498b",
   "metadata": {},
   "source": [
    "> **iterable and iterator**\\\n",
    "**iterable** means an object holds some values wiht the help of indexes and we can access this values one by one with the help of this indexes then this object is itrable like str\\\n",
    "**iterator** is kind of device which iterates over iterable and returns values\\\n",
    "iter() funciton turns iterable object into iterator"
   ]
  },
  {
   "cell_type": "code",
   "execution_count": 40,
   "id": "b0f387d6",
   "metadata": {},
   "outputs": [],
   "source": [
    "b = iter(s) # b becomes an iterator and next() funtions now work"
   ]
  },
  {
   "cell_type": "code",
   "execution_count": 41,
   "id": "05ffb1ad",
   "metadata": {},
   "outputs": [
    {
     "data": {
      "text/plain": [
       "'s'"
      ]
     },
     "execution_count": 41,
     "metadata": {},
     "output_type": "execute_result"
    }
   ],
   "source": [
    "next(b)"
   ]
  },
  {
   "cell_type": "code",
   "execution_count": 42,
   "id": "00a0b895",
   "metadata": {},
   "outputs": [
    {
     "data": {
      "text/plain": [
       "'u'"
      ]
     },
     "execution_count": 42,
     "metadata": {},
     "output_type": "execute_result"
    }
   ],
   "source": [
    "next(b)"
   ]
  },
  {
   "cell_type": "code",
   "execution_count": 43,
   "id": "680650e7",
   "metadata": {},
   "outputs": [
    {
     "data": {
      "text/plain": [
       "'d'"
      ]
     },
     "execution_count": 43,
     "metadata": {},
     "output_type": "execute_result"
    }
   ],
   "source": [
    "next(b)"
   ]
  },
  {
   "cell_type": "code",
   "execution_count": null,
   "id": "5bfda039",
   "metadata": {},
   "outputs": [],
   "source": []
  },
  {
   "cell_type": "code",
   "execution_count": 44,
   "id": "63847928",
   "metadata": {},
   "outputs": [
    {
     "data": {
      "text/plain": [
       "'h'"
      ]
     },
     "execution_count": 44,
     "metadata": {},
     "output_type": "execute_result"
    }
   ],
   "source": [
    "next(b)"
   ]
  },
  {
   "cell_type": "code",
   "execution_count": 45,
   "id": "e4367d33",
   "metadata": {},
   "outputs": [
    {
     "ename": "StopIteration",
     "evalue": "",
     "output_type": "error",
     "traceback": [
      "\u001b[1;31m---------------------------------------------------------------------------\u001b[0m",
      "\u001b[1;31mStopIteration\u001b[0m                             Traceback (most recent call last)",
      "\u001b[1;32m~\\AppData\\Local\\Temp\\ipykernel_2236\\973617480.py\u001b[0m in \u001b[0;36m<module>\u001b[1;34m\u001b[0m\n\u001b[1;32m----> 1\u001b[1;33m \u001b[0mnext\u001b[0m\u001b[1;33m(\u001b[0m\u001b[0mb\u001b[0m\u001b[1;33m)\u001b[0m\u001b[1;33m\u001b[0m\u001b[1;33m\u001b[0m\u001b[0m\n\u001b[0m",
      "\u001b[1;31mStopIteration\u001b[0m: "
     ]
    }
   ],
   "source": [
    "next(b)"
   ]
  },
  {
   "cell_type": "markdown",
   "id": "51e36472",
   "metadata": {},
   "source": [
    "> **for loop turns an iterable into iterator the does the operations**"
   ]
  },
  {
   "cell_type": "code",
   "execution_count": null,
   "id": "90f79928",
   "metadata": {},
   "outputs": [],
   "source": [
    "s = \"asfasdf\"\n",
    "for i in s:             # converts s into iterator\n",
    "    print(i)"
   ]
  },
  {
   "cell_type": "code",
   "execution_count": 46,
   "id": "6964a426",
   "metadata": {},
   "outputs": [
    {
     "ename": "TypeError",
     "evalue": "'int' object is not iterable",
     "output_type": "error",
     "traceback": [
      "\u001b[1;31m---------------------------------------------------------------------------\u001b[0m",
      "\u001b[1;31mTypeError\u001b[0m                                 Traceback (most recent call last)",
      "\u001b[1;32m~\\AppData\\Local\\Temp\\ipykernel_2236\\3186544426.py\u001b[0m in \u001b[0;36m<module>\u001b[1;34m\u001b[0m\n\u001b[1;32m----> 1\u001b[1;33m \u001b[0miter\u001b[0m\u001b[1;33m(\u001b[0m\u001b[1;36m45\u001b[0m\u001b[1;33m)\u001b[0m\u001b[1;33m\u001b[0m\u001b[1;33m\u001b[0m\u001b[0m\n\u001b[0m",
      "\u001b[1;31mTypeError\u001b[0m: 'int' object is not iterable"
     ]
    }
   ],
   "source": [
    "iter(45)"
   ]
  },
  {
   "cell_type": "code",
   "execution_count": 50,
   "id": "791b15b8",
   "metadata": {},
   "outputs": [],
   "source": [
    "l = [i for i in range(3)]\n",
    "li = iter(l)"
   ]
  },
  {
   "cell_type": "code",
   "execution_count": 51,
   "id": "0e832787",
   "metadata": {},
   "outputs": [
    {
     "data": {
      "text/plain": [
       "0"
      ]
     },
     "execution_count": 51,
     "metadata": {},
     "output_type": "execute_result"
    }
   ],
   "source": [
    "next(li)"
   ]
  },
  {
   "cell_type": "code",
   "execution_count": 52,
   "id": "64c4199f",
   "metadata": {},
   "outputs": [
    {
     "data": {
      "text/plain": [
       "1"
      ]
     },
     "execution_count": 52,
     "metadata": {},
     "output_type": "execute_result"
    }
   ],
   "source": [
    "next(li)"
   ]
  },
  {
   "cell_type": "code",
   "execution_count": 53,
   "id": "27a8b1a5",
   "metadata": {},
   "outputs": [
    {
     "data": {
      "text/plain": [
       "2"
      ]
     },
     "execution_count": 53,
     "metadata": {},
     "output_type": "execute_result"
    }
   ],
   "source": [
    "next(li)"
   ]
  },
  {
   "cell_type": "code",
   "execution_count": 54,
   "id": "93311bb0",
   "metadata": {
    "collapsed": true
   },
   "outputs": [
    {
     "ename": "StopIteration",
     "evalue": "",
     "output_type": "error",
     "traceback": [
      "\u001b[1;31m---------------------------------------------------------------------------\u001b[0m",
      "\u001b[1;31mStopIteration\u001b[0m                             Traceback (most recent call last)",
      "\u001b[1;32m~\\AppData\\Local\\Temp\\ipykernel_2236\\1852918952.py\u001b[0m in \u001b[0;36m<module>\u001b[1;34m\u001b[0m\n\u001b[1;32m----> 1\u001b[1;33m \u001b[0mnext\u001b[0m\u001b[1;33m(\u001b[0m\u001b[0mli\u001b[0m\u001b[1;33m)\u001b[0m\u001b[1;33m\u001b[0m\u001b[1;33m\u001b[0m\u001b[0m\n\u001b[0m",
      "\u001b[1;31mStopIteration\u001b[0m: "
     ]
    }
   ],
   "source": [
    "next(li)"
   ]
  },
  {
   "cell_type": "code",
   "execution_count": null,
   "id": "fc7dfe51",
   "metadata": {},
   "outputs": [],
   "source": []
  },
  {
   "cell_type": "code",
   "execution_count": null,
   "id": "c80d2c9e",
   "metadata": {},
   "outputs": [],
   "source": []
  },
  {
   "cell_type": "code",
   "execution_count": null,
   "id": "20d3459b",
   "metadata": {},
   "outputs": [],
   "source": []
  },
  {
   "cell_type": "code",
   "execution_count": null,
   "id": "a1694113",
   "metadata": {},
   "outputs": [],
   "source": []
  },
  {
   "cell_type": "code",
   "execution_count": null,
   "id": "7bae0cf2",
   "metadata": {},
   "outputs": [],
   "source": []
  },
  {
   "cell_type": "code",
   "execution_count": null,
   "id": "20604220",
   "metadata": {},
   "outputs": [],
   "source": []
  },
  {
   "cell_type": "code",
   "execution_count": null,
   "id": "1f6f049e",
   "metadata": {},
   "outputs": [],
   "source": []
  },
  {
   "cell_type": "code",
   "execution_count": null,
   "id": "59da3a56",
   "metadata": {},
   "outputs": [],
   "source": []
  },
  {
   "cell_type": "code",
   "execution_count": null,
   "id": "5d2d6ba3",
   "metadata": {},
   "outputs": [],
   "source": []
  },
  {
   "cell_type": "code",
   "execution_count": null,
   "id": "518e323b",
   "metadata": {},
   "outputs": [],
   "source": []
  },
  {
   "cell_type": "code",
   "execution_count": null,
   "id": "b96ce1f9",
   "metadata": {},
   "outputs": [],
   "source": []
  },
  {
   "cell_type": "code",
   "execution_count": null,
   "id": "1515b843",
   "metadata": {},
   "outputs": [],
   "source": []
  },
  {
   "cell_type": "code",
   "execution_count": null,
   "id": "d4744389",
   "metadata": {},
   "outputs": [],
   "source": []
  },
  {
   "cell_type": "code",
   "execution_count": null,
   "id": "465c0975",
   "metadata": {},
   "outputs": [],
   "source": []
  },
  {
   "cell_type": "code",
   "execution_count": null,
   "id": "dd090ad2",
   "metadata": {},
   "outputs": [],
   "source": []
  },
  {
   "cell_type": "code",
   "execution_count": null,
   "id": "1456cb8c",
   "metadata": {},
   "outputs": [],
   "source": []
  },
  {
   "cell_type": "code",
   "execution_count": null,
   "id": "5e1a09f9",
   "metadata": {},
   "outputs": [],
   "source": []
  },
  {
   "cell_type": "code",
   "execution_count": null,
   "id": "8d1d5a35",
   "metadata": {},
   "outputs": [],
   "source": []
  },
  {
   "cell_type": "code",
   "execution_count": null,
   "id": "97068e06",
   "metadata": {},
   "outputs": [],
   "source": []
  },
  {
   "cell_type": "code",
   "execution_count": null,
   "id": "1b9e1b1d",
   "metadata": {},
   "outputs": [],
   "source": []
  },
  {
   "cell_type": "code",
   "execution_count": null,
   "id": "816f9b15",
   "metadata": {},
   "outputs": [],
   "source": []
  },
  {
   "cell_type": "code",
   "execution_count": null,
   "id": "c1cbbf23",
   "metadata": {},
   "outputs": [],
   "source": []
  },
  {
   "cell_type": "code",
   "execution_count": null,
   "id": "e64d3a38",
   "metadata": {},
   "outputs": [],
   "source": []
  },
  {
   "cell_type": "code",
   "execution_count": null,
   "id": "92b17948",
   "metadata": {},
   "outputs": [],
   "source": []
  },
  {
   "cell_type": "code",
   "execution_count": null,
   "id": "e1428670",
   "metadata": {},
   "outputs": [],
   "source": []
  },
  {
   "cell_type": "code",
   "execution_count": null,
   "id": "230e418e",
   "metadata": {},
   "outputs": [],
   "source": []
  },
  {
   "cell_type": "code",
   "execution_count": null,
   "id": "5cfffdd4",
   "metadata": {},
   "outputs": [],
   "source": []
  }
 ],
 "metadata": {
  "kernelspec": {
   "display_name": "Python 3 (ipykernel)",
   "language": "python",
   "name": "python3"
  },
  "language_info": {
   "codemirror_mode": {
    "name": "ipython",
    "version": 3
   },
   "file_extension": ".py",
   "mimetype": "text/x-python",
   "name": "python",
   "nbconvert_exporter": "python",
   "pygments_lexer": "ipython3",
   "version": "3.9.13"
  }
 },
 "nbformat": 4,
 "nbformat_minor": 5
}
