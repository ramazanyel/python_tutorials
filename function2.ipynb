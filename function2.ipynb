{
 "cells": [
  {
   "cell_type": "markdown",
   "id": "d0468f12",
   "metadata": {},
   "source": [
    "# FUNCTIONS"
   ]
  },
  {
   "cell_type": "markdown",
   "id": "8703e454",
   "metadata": {},
   "source": [
    "> if the number of arguments are fixed we can create a function just providing the proper signature\\\n",
    "but if the number of arguments are not fixed then we use ***args**"
   ]
  },
  {
   "cell_type": "code",
   "execution_count": 9,
   "id": "96ce8185",
   "metadata": {},
   "outputs": [],
   "source": [
    "# create a function that can except any number of argument\n",
    "# arg is not a reserved word we can use any name instead\n",
    "def test(*args):\n",
    "    print(type(args))\n",
    "    for e in args:\n",
    "        print(e)\n",
    "    "
   ]
  },
  {
   "cell_type": "code",
   "execution_count": 10,
   "id": "53865f23",
   "metadata": {},
   "outputs": [
    {
     "name": "stdout",
     "output_type": "stream",
     "text": [
      "<class 'tuple'>\n",
      "1\n",
      "2\n",
      "3\n",
      "4\n",
      "(1, 2, 3)\n"
     ]
    }
   ],
   "source": [
    "test(1,2,3,4,(1,2,3))"
   ]
  },
  {
   "cell_type": "markdown",
   "id": "ed3d8585",
   "metadata": {},
   "source": [
    "> what happens if i also need to pass some specific variables\\\n",
    "we need to put specific values in front of ***args**\\\n",
    "if we dont args will consume all argument and there will be no left arguments for specific parameter\\\n",
    "two way to overcome the problem\n",
    "> - specificly use a=value for some value\n",
    "> - put args to be the last argument in func signature"
   ]
  },
  {
   "cell_type": "code",
   "execution_count": 15,
   "id": "9167a461",
   "metadata": {},
   "outputs": [],
   "source": [
    "def test2(*args, a):\n",
    "    print(a)\n",
    "    for e in args:\n",
    "        print(e)"
   ]
  },
  {
   "cell_type": "code",
   "execution_count": 17,
   "id": "553fa296",
   "metadata": {},
   "outputs": [
    {
     "name": "stdout",
     "output_type": "stream",
     "text": [
      "hello\n",
      "1\n",
      "2\n",
      "3\n"
     ]
    }
   ],
   "source": [
    "test2(1,2,3,a =\"hello\")"
   ]
  },
  {
   "cell_type": "code",
   "execution_count": 18,
   "id": "26b39e1b",
   "metadata": {},
   "outputs": [],
   "source": [
    "def test3(a, *args):\n",
    "    print(a)\n",
    "    for e in args:\n",
    "        print(e)"
   ]
  },
  {
   "cell_type": "code",
   "execution_count": 19,
   "id": "c22cdc08",
   "metadata": {},
   "outputs": [
    {
     "name": "stdout",
     "output_type": "stream",
     "text": [
      "hello\n",
      "1\n",
      "2\n",
      "3\n"
     ]
    }
   ],
   "source": [
    "test3(\"hello\", 1,2,3)"
   ]
  },
  {
   "cell_type": "markdown",
   "id": "0a3d03b3",
   "metadata": {},
   "source": [
    "> positional argument and specific argument must match"
   ]
  },
  {
   "cell_type": "code",
   "execution_count": 21,
   "id": "91b27d49",
   "metadata": {},
   "outputs": [],
   "source": [
    "def test3(*sudh, a):\n",
    "    return sudh, a"
   ]
  },
  {
   "cell_type": "code",
   "execution_count": 22,
   "id": "a9100d7d",
   "metadata": {},
   "outputs": [
    {
     "data": {
      "text/plain": [
       "((34, 65, 654), 'hello')"
      ]
     },
     "execution_count": 22,
     "metadata": {},
     "output_type": "execute_result"
    }
   ],
   "source": [
    "test3(34,65,654, a= \"hello\")"
   ]
  },
  {
   "cell_type": "code",
   "execution_count": 23,
   "id": "7fba0c8d",
   "metadata": {},
   "outputs": [],
   "source": [
    "def test4(*sudh, a,b,c,d):\n",
    "    return sudh,a,b,c,d"
   ]
  },
  {
   "cell_type": "code",
   "execution_count": 26,
   "id": "3c09c0e2",
   "metadata": {},
   "outputs": [
    {
     "data": {
      "text/plain": [
       "((1, 2, 3), 4, 5, 67, 889)"
      ]
     },
     "execution_count": 26,
     "metadata": {},
     "output_type": "execute_result"
    }
   ],
   "source": [
    "test4(1,2,3,a=4,b=5,c=67,d=889)"
   ]
  },
  {
   "cell_type": "markdown",
   "id": "3cc92f10",
   "metadata": {},
   "source": [
    "> if we dont want to write the name of the argument while calling the funciton\\\n",
    "then make the ***args** the last argument of funciton"
   ]
  },
  {
   "cell_type": "code",
   "execution_count": 27,
   "id": "e2fbca5e",
   "metadata": {},
   "outputs": [],
   "source": [
    "def test3(a, *sudh):\n",
    "    return a, sudh"
   ]
  },
  {
   "cell_type": "code",
   "execution_count": 28,
   "id": "5804b1c4",
   "metadata": {},
   "outputs": [
    {
     "ename": "TypeError",
     "evalue": "test3() got multiple values for argument 'a'",
     "output_type": "error",
     "traceback": [
      "\u001b[1;31m---------------------------------------------------------------------------\u001b[0m",
      "\u001b[1;31mTypeError\u001b[0m                                 Traceback (most recent call last)",
      "\u001b[1;32m~\\AppData\\Local\\Temp\\ipykernel_12632\\3379635039.py\u001b[0m in \u001b[0;36m<module>\u001b[1;34m\u001b[0m\n\u001b[1;32m----> 1\u001b[1;33m \u001b[0mtest3\u001b[0m\u001b[1;33m(\u001b[0m\u001b[1;36m1\u001b[0m\u001b[1;33m,\u001b[0m\u001b[1;36m2\u001b[0m\u001b[1;33m,\u001b[0m\u001b[1;36m3\u001b[0m\u001b[1;33m,\u001b[0m\u001b[1;36m4\u001b[0m\u001b[1;33m,\u001b[0m\u001b[0ma\u001b[0m\u001b[1;33m=\u001b[0m\u001b[1;34m\"hello\"\u001b[0m\u001b[1;33m)\u001b[0m\u001b[1;33m\u001b[0m\u001b[1;33m\u001b[0m\u001b[0m\n\u001b[0m",
      "\u001b[1;31mTypeError\u001b[0m: test3() got multiple values for argument 'a'"
     ]
    }
   ],
   "source": [
    "test3(1,2,3,4,a=\"hello\") # by positional argument a is assigned to 1 and then assigned to \"hello\" again it is error"
   ]
  },
  {
   "cell_type": "markdown",
   "id": "af70d12a",
   "metadata": {},
   "source": [
    "> when we call a funciton positional arguments should come first if we use positional and keyword together\\\n",
    "**positional arguments first**"
   ]
  },
  {
   "cell_type": "code",
   "execution_count": 31,
   "id": "ef3c8d8d",
   "metadata": {},
   "outputs": [
    {
     "ename": "SyntaxError",
     "evalue": "positional argument follows keyword argument (1614497659.py, line 1)",
     "output_type": "error",
     "traceback": [
      "\u001b[1;36m  File \u001b[1;32m\"C:\\Users\\ramazan\\AppData\\Local\\Temp\\ipykernel_12632\\1614497659.py\"\u001b[1;36m, line \u001b[1;32m1\u001b[0m\n\u001b[1;33m    test3(a=1,2,3)\u001b[0m\n\u001b[1;37m                 ^\u001b[0m\n\u001b[1;31mSyntaxError\u001b[0m\u001b[1;31m:\u001b[0m positional argument follows keyword argument\n"
     ]
    }
   ],
   "source": [
    "test3(a=1,2,3)"
   ]
  },
  {
   "cell_type": "code",
   "execution_count": 32,
   "id": "2046ffb8",
   "metadata": {},
   "outputs": [],
   "source": [
    "def test5(a,*sudh, b,c):\n",
    "    return a,sudh,b,c"
   ]
  },
  {
   "cell_type": "code",
   "execution_count": 39,
   "id": "d8600fef",
   "metadata": {},
   "outputs": [
    {
     "data": {
      "text/plain": [
       "(5, (6, 7, 8, 9), 2, 3)"
      ]
     },
     "execution_count": 39,
     "metadata": {},
     "output_type": "execute_result"
    }
   ],
   "source": [
    "test5(5,6,7,8,9,b=2,c=3)"
   ]
  },
  {
   "cell_type": "code",
   "execution_count": 45,
   "id": "d83dbf1e",
   "metadata": {},
   "outputs": [],
   "source": [
    "def testx(a, b,c,d,):\n",
    "    return a,b,c,d"
   ]
  },
  {
   "cell_type": "code",
   "execution_count": 47,
   "id": "5fef4f7a",
   "metadata": {},
   "outputs": [
    {
     "data": {
      "text/plain": [
       "(2, 3, 4, 1)"
      ]
     },
     "execution_count": 47,
     "metadata": {},
     "output_type": "execute_result"
    }
   ],
   "source": [
    "testx(2,3,4,1)"
   ]
  },
  {
   "cell_type": "markdown",
   "id": "ab95d093",
   "metadata": {},
   "source": [
    "> what happens if we want to take arbitrary number of key-value pair as argument\\\n",
    "in this case we use ****kvargs**"
   ]
  },
  {
   "cell_type": "code",
   "execution_count": 52,
   "id": "2ea628c8",
   "metadata": {},
   "outputs": [],
   "source": [
    "def test6(**kvargs):\n",
    "    return kvargs"
   ]
  },
  {
   "cell_type": "code",
   "execution_count": 53,
   "id": "c39f146e",
   "metadata": {},
   "outputs": [
    {
     "data": {
      "text/plain": [
       "{'a': 1, 'b': 2, 'c': 3}"
      ]
     },
     "execution_count": 53,
     "metadata": {},
     "output_type": "execute_result"
    }
   ],
   "source": [
    "test6(a=1,b=2,c=3)"
   ]
  },
  {
   "cell_type": "code",
   "execution_count": 55,
   "id": "b190f1ca",
   "metadata": {},
   "outputs": [
    {
     "ename": "TypeError",
     "evalue": "test6() takes 0 positional arguments but 3 were given",
     "output_type": "error",
     "traceback": [
      "\u001b[1;31m---------------------------------------------------------------------------\u001b[0m",
      "\u001b[1;31mTypeError\u001b[0m                                 Traceback (most recent call last)",
      "\u001b[1;32m~\\AppData\\Local\\Temp\\ipykernel_12632\\1312676375.py\u001b[0m in \u001b[0;36m<module>\u001b[1;34m\u001b[0m\n\u001b[1;32m----> 1\u001b[1;33m \u001b[0mtest6\u001b[0m\u001b[1;33m(\u001b[0m\u001b[1;36m1\u001b[0m\u001b[1;33m,\u001b[0m\u001b[1;36m2\u001b[0m\u001b[1;33m,\u001b[0m\u001b[1;36m3\u001b[0m\u001b[1;33m)\u001b[0m \u001b[1;31m# gives error because the function excepts zero pos argument\u001b[0m\u001b[1;33m\u001b[0m\u001b[1;33m\u001b[0m\u001b[0m\n\u001b[0m",
      "\u001b[1;31mTypeError\u001b[0m: test6() takes 0 positional arguments but 3 were given"
     ]
    }
   ],
   "source": [
    "test6(1,2,3) # gives error because the function excepts zero pos argument"
   ]
  },
  {
   "cell_type": "code",
   "execution_count": 63,
   "id": "0baaa1d3",
   "metadata": {},
   "outputs": [],
   "source": [
    "def test8(b, **sudh): # b is positional\n",
    "    return b, sudh"
   ]
  },
  {
   "cell_type": "code",
   "execution_count": 69,
   "id": "a39ce2be",
   "metadata": {},
   "outputs": [
    {
     "ename": "TypeError",
     "evalue": "test8() got multiple values for argument 'b'",
     "output_type": "error",
     "traceback": [
      "\u001b[1;31m---------------------------------------------------------------------------\u001b[0m",
      "\u001b[1;31mTypeError\u001b[0m                                 Traceback (most recent call last)",
      "\u001b[1;32m~\\AppData\\Local\\Temp\\ipykernel_12632\\1469905337.py\u001b[0m in \u001b[0;36m<module>\u001b[1;34m\u001b[0m\n\u001b[1;32m----> 1\u001b[1;33m \u001b[0mtest8\u001b[0m\u001b[1;33m(\u001b[0m\u001b[1;36m1\u001b[0m\u001b[1;33m,\u001b[0m \u001b[0ma\u001b[0m\u001b[1;33m=\u001b[0m\u001b[1;36m5\u001b[0m\u001b[1;33m,\u001b[0m\u001b[0mb\u001b[0m\u001b[1;33m=\u001b[0m\u001b[1;36m3\u001b[0m\u001b[1;33m,\u001b[0m \u001b[0mc\u001b[0m\u001b[1;33m=\u001b[0m\u001b[1;34m\"hello\"\u001b[0m\u001b[1;33m)\u001b[0m\u001b[1;33m\u001b[0m\u001b[1;33m\u001b[0m\u001b[0m\n\u001b[0m",
      "\u001b[1;31mTypeError\u001b[0m: test8() got multiple values for argument 'b'"
     ]
    }
   ],
   "source": [
    "test8(1, a=5,b=3, c=\"hello\")"
   ]
  },
  {
   "cell_type": "code",
   "execution_count": 75,
   "id": "ec35ad2a",
   "metadata": {},
   "outputs": [
    {
     "ename": "SyntaxError",
     "evalue": "invalid syntax (2379696099.py, line 1)",
     "output_type": "error",
     "traceback": [
      "\u001b[1;36m  File \u001b[1;32m\"C:\\Users\\ramazan\\AppData\\Local\\Temp\\ipykernel_12632\\2379696099.py\"\u001b[1;36m, line \u001b[1;32m1\u001b[0m\n\u001b[1;33m    def test11(a, **sudh, *args): # gives sytax error if we use in this order\u001b[0m\n\u001b[1;37m                          ^\u001b[0m\n\u001b[1;31mSyntaxError\u001b[0m\u001b[1;31m:\u001b[0m invalid syntax\n"
     ]
    }
   ],
   "source": [
    "def test11(a, **sudh, *args): # gives sytax error if we use in this order\n",
    "    return a, sudh, args"
   ]
  },
  {
   "cell_type": "code",
   "execution_count": 87,
   "id": "5273f58d",
   "metadata": {},
   "outputs": [],
   "source": [
    "def test12(a, *args, **kvargs, ): # it is working now\n",
    "    return a,args, kvargs"
   ]
  },
  {
   "cell_type": "code",
   "execution_count": 89,
   "id": "045a8375",
   "metadata": {},
   "outputs": [
    {
     "data": {
      "text/plain": [
       "(1, (2, 34, 5), {'b': 5, 'c': 8})"
      ]
     },
     "execution_count": 89,
     "metadata": {},
     "output_type": "execute_result"
    }
   ],
   "source": [
    "test12(1,2,34,5, b=5,c=8)"
   ]
  },
  {
   "cell_type": "markdown",
   "id": "12e14f5a",
   "metadata": {},
   "source": [
    "# lambda"
   ]
  },
  {
   "cell_type": "markdown",
   "id": "c6df3bac",
   "metadata": {},
   "source": [
    "> how to creat a function without name\\\n",
    "sometimes functions are to simple to implement so no need to create func with name"
   ]
  },
  {
   "cell_type": "code",
   "execution_count": 93,
   "id": "c087b19e",
   "metadata": {},
   "outputs": [
    {
     "data": {
      "text/plain": [
       "<function __main__.<lambda>(a, b)>"
      ]
     },
     "execution_count": 93,
     "metadata": {},
     "output_type": "execute_result"
    }
   ],
   "source": [
    "lambda a,b : a*b"
   ]
  },
  {
   "cell_type": "markdown",
   "id": "e5ccda22",
   "metadata": {},
   "source": [
    "> how to call lambda function"
   ]
  },
  {
   "cell_type": "code",
   "execution_count": 94,
   "id": "f8c8f3a3",
   "metadata": {},
   "outputs": [
    {
     "data": {
      "text/plain": [
       "6"
      ]
     },
     "execution_count": 94,
     "metadata": {},
     "output_type": "execute_result"
    }
   ],
   "source": [
    "a = lambda a,b : a*b\n",
    "a(2,3)"
   ]
  },
  {
   "cell_type": "code",
   "execution_count": null,
   "id": "91f98ede",
   "metadata": {},
   "outputs": [],
   "source": []
  },
  {
   "cell_type": "code",
   "execution_count": null,
   "id": "c832742a",
   "metadata": {},
   "outputs": [],
   "source": []
  },
  {
   "cell_type": "code",
   "execution_count": null,
   "id": "d011cc12",
   "metadata": {},
   "outputs": [],
   "source": []
  },
  {
   "cell_type": "code",
   "execution_count": null,
   "id": "e9b26d5d",
   "metadata": {},
   "outputs": [],
   "source": []
  },
  {
   "cell_type": "code",
   "execution_count": null,
   "id": "44501a60",
   "metadata": {},
   "outputs": [],
   "source": []
  },
  {
   "cell_type": "code",
   "execution_count": null,
   "id": "e689c894",
   "metadata": {},
   "outputs": [],
   "source": []
  },
  {
   "cell_type": "code",
   "execution_count": null,
   "id": "a4830ffc",
   "metadata": {},
   "outputs": [],
   "source": []
  }
 ],
 "metadata": {
  "kernelspec": {
   "display_name": "Python 3 (ipykernel)",
   "language": "python",
   "name": "python3"
  },
  "language_info": {
   "codemirror_mode": {
    "name": "ipython",
    "version": 3
   },
   "file_extension": ".py",
   "mimetype": "text/x-python",
   "name": "python",
   "nbconvert_exporter": "python",
   "pygments_lexer": "ipython3",
   "version": "3.9.13"
  }
 },
 "nbformat": 4,
 "nbformat_minor": 5
}
